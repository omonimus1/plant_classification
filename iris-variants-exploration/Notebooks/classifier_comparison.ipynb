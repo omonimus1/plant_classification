{
 "cells": [
  {
   "cell_type": "code",
   "execution_count": 4,
   "source": [
    "from sklearn.datasets import load_iris\n",
    "\n",
    "iris= load_iris()\n",
    "\n",
    "# Store features matrix in X\n",
    "X= iris.data\n",
    "\n",
    "#Store target vector in y\n",
    "y= iris.target"
   ],
   "outputs": [],
   "metadata": {}
  },
  {
   "cell_type": "code",
   "execution_count": 5,
   "source": [
    "#Importing KNN Classifier\n",
    "from sklearn.neighbors import KNeighborsClassifier\n",
    "\n",
    "#For Computing Evaluation Metric \n",
    "from sklearn import metrics"
   ],
   "outputs": [],
   "metadata": {}
  },
  {
   "cell_type": "markdown",
   "source": [],
   "metadata": {}
  },
  {
   "cell_type": "markdown",
   "source": [
    "## Evaluation Procedure 01 :\n",
    "## Training and Testing on entire dataset\n"
   ],
   "metadata": {}
  },
  {
   "cell_type": "markdown",
   "source": [
    "## For K=1\n"
   ],
   "metadata": {}
  },
  {
   "cell_type": "code",
   "execution_count": 6,
   "source": [
    "knn = KNeighborsClassifier(n_neighbors=1)\n",
    "knn.fit(X, y)\n",
    "y_pred = knn.predict(X)\n",
    "print(metrics.accuracy_score(y, y_pred))"
   ],
   "outputs": [
    {
     "output_type": "stream",
     "name": "stdout",
     "text": [
      "1.0\n"
     ]
    }
   ],
   "metadata": {}
  },
  {
   "cell_type": "markdown",
   "source": [
    "## For K=5"
   ],
   "metadata": {}
  },
  {
   "cell_type": "code",
   "execution_count": 7,
   "source": [
    "knn = KNeighborsClassifier(n_neighbors=5)\n",
    "knn.fit(X, y)\n",
    "y_pred = knn.predict(X)\n",
    "print(metrics.accuracy_score(y, y_pred))"
   ],
   "outputs": [
    {
     "output_type": "stream",
     "name": "stdout",
     "text": [
      "0.9666666666666667\n"
     ]
    }
   ],
   "metadata": {}
  },
  {
   "cell_type": "markdown",
   "source": [
    " ## Evaluation Procedure 02 :\n",
    " ## Train/Test Splits"
   ],
   "metadata": {}
  },
  {
   "cell_type": "code",
   "execution_count": 8,
   "source": [
    "#  split X and y into training and testing sets\n",
    "from sklearn.model_selection import train_test_split\n",
    "\n",
    "X_train, X_test, y_train, y_test = train_test_split(X, y, test_size=0.4, random_state=4)"
   ],
   "outputs": [],
   "metadata": {}
  },
  {
   "cell_type": "code",
   "execution_count": 9,
   "source": [
    "# print the shapes of the new X objects\n",
    "print(X_train.shape)\n",
    "print(X_test.shape)\n",
    "# print the shapes of the new y objects\n",
    "print(y_train.shape)\n",
    "print(y_test.shape)"
   ],
   "outputs": [
    {
     "output_type": "stream",
     "name": "stdout",
     "text": [
      "(90, 4)\n",
      "(60, 4)\n",
      "(90,)\n",
      "(60,)\n"
     ]
    }
   ],
   "metadata": {}
  },
  {
   "cell_type": "markdown",
   "source": [
    "## Let's start Model Training on Training set and Evaluation on Test Set\n",
    "\n",
    "## For K=1"
   ],
   "metadata": {}
  },
  {
   "cell_type": "code",
   "execution_count": 10,
   "source": [
    "knn = KNeighborsClassifier(n_neighbors=1)\n",
    "knn.fit(X_train, y_train)\n",
    "y_pred = knn.predict(X_test)\n",
    "print(metrics.accuracy_score(y_test, y_pred))"
   ],
   "outputs": [
    {
     "output_type": "stream",
     "name": "stdout",
     "text": [
      "0.95\n"
     ]
    }
   ],
   "metadata": {}
  },
  {
   "cell_type": "markdown",
   "source": [
    "## For K=5"
   ],
   "metadata": {}
  },
  {
   "cell_type": "code",
   "execution_count": 11,
   "source": [
    "knn = KNeighborsClassifier(n_neighbors=5)\n",
    "knn.fit(X_train, y_train)\n",
    "y_pred = knn.predict(X_test)\n",
    "print(metrics.accuracy_score(y_test, y_pred))"
   ],
   "outputs": [
    {
     "output_type": "stream",
     "name": "stdout",
     "text": [
      "0.9666666666666667\n"
     ]
    }
   ],
   "metadata": {}
  },
  {
   "cell_type": "markdown",
   "source": [
    "## Playing with Knn Parameter\n"
   ],
   "metadata": {}
  },
  {
   "cell_type": "code",
   "execution_count": 14,
   "source": [
    "# try K=1 through K=30 and record testing accuracy\n",
    "# import Matplotlib (scientific plotting library)\n",
    "import matplotlib.pyplot as plt\n",
    "k_range = list(range(1, 31))\n",
    "scores = []\n",
    "for k in k_range:\n",
    "    knn = KNeighborsClassifier(n_neighbors=k)\n",
    "    knn.fit(X_train, y_train)\n",
    "    y_pred = knn.predict(X_test)\n",
    "    scores.append(metrics.accuracy_score(y_test, y_pred))\n",
    "\n",
    "# allow plots to appear within the notebook\n",
    "%matplotlib inline\n",
    "\n",
    "# plot the relationship between K and testing accuracy\n",
    "plt.plot(k_range, scores)\n",
    "plt.xlabel('Value of K for KNN')\n",
    "plt.ylabel('Testing Accuracy')\n",
    "plt.title('Accuracy distribution using KNeighbors Classifier on change pf n_neighbors parameters')"
   ],
   "outputs": [
    {
     "output_type": "execute_result",
     "data": {
      "text/plain": [
       "Text(0.5, 1.0, 'Accuracy distribution using KNeighbors Classifier on change pf n_neighbors parameters')"
      ]
     },
     "metadata": {},
     "execution_count": 14
    },
    {
     "output_type": "display_data",
     "data": {
      "text/plain": [
       "<Figure size 432x288 with 1 Axes>"
      ],
      "image/svg+xml": "<?xml version=\"1.0\" encoding=\"utf-8\" standalone=\"no\"?>\n<!DOCTYPE svg PUBLIC \"-//W3C//DTD SVG 1.1//EN\"\n  \"http://www.w3.org/Graphics/SVG/1.1/DTD/svg11.dtd\">\n<svg height=\"277.314375pt\" version=\"1.1\" viewBox=\"0 0 541.87125 277.314375\" width=\"541.87125pt\" xmlns=\"http://www.w3.org/2000/svg\" xmlns:xlink=\"http://www.w3.org/1999/xlink\">\n <metadata>\n  <rdf:RDF xmlns:cc=\"http://creativecommons.org/ns#\" xmlns:dc=\"http://purl.org/dc/elements/1.1/\" xmlns:rdf=\"http://www.w3.org/1999/02/22-rdf-syntax-ns#\">\n   <cc:Work>\n    <dc:type rdf:resource=\"http://purl.org/dc/dcmitype/StillImage\"/>\n    <dc:date>2021-11-12T13:45:45.702481</dc:date>\n    <dc:format>image/svg+xml</dc:format>\n    <dc:creator>\n     <cc:Agent>\n      <dc:title>Matplotlib v3.4.3, https://matplotlib.org/</dc:title>\n     </cc:Agent>\n    </dc:creator>\n   </cc:Work>\n  </rdf:RDF>\n </metadata>\n <defs>\n  <style type=\"text/css\">*{stroke-linecap:butt;stroke-linejoin:round;}</style>\n </defs>\n <g id=\"figure_1\">\n  <g id=\"patch_1\">\n   <path d=\"M 0 277.314375 \nL 541.87125 277.314375 \nL 541.87125 0 \nL 0 0 \nz\n\" style=\"fill:none;\"/>\n  </g>\n  <g id=\"axes_1\">\n   <g id=\"patch_2\">\n    <path d=\"M 103.535625 239.758125 \nL 438.335625 239.758125 \nL 438.335625 22.318125 \nL 103.535625 22.318125 \nz\n\" style=\"fill:#ffffff;\"/>\n   </g>\n   <g id=\"matplotlib.axis_1\">\n    <g id=\"xtick_1\">\n     <g id=\"line2d_1\">\n      <defs>\n       <path d=\"M 0 0 \nL 0 3.5 \n\" id=\"m9a1b697785\" style=\"stroke:#000000;stroke-width:0.8;\"/>\n      </defs>\n      <g>\n       <use style=\"stroke:#000000;stroke-width:0.8;\" x=\"108.258509\" xlink:href=\"#m9a1b697785\" y=\"239.758125\"/>\n      </g>\n     </g>\n     <g id=\"text_1\">\n      <!-- 0 -->\n      <g transform=\"translate(105.077259 254.356562)scale(0.1 -0.1)\">\n       <defs>\n        <path d=\"M 2034 4250 \nQ 1547 4250 1301 3770 \nQ 1056 3291 1056 2328 \nQ 1056 1369 1301 889 \nQ 1547 409 2034 409 \nQ 2525 409 2770 889 \nQ 3016 1369 3016 2328 \nQ 3016 3291 2770 3770 \nQ 2525 4250 2034 4250 \nz\nM 2034 4750 \nQ 2819 4750 3233 4129 \nQ 3647 3509 3647 2328 \nQ 3647 1150 3233 529 \nQ 2819 -91 2034 -91 \nQ 1250 -91 836 529 \nQ 422 1150 422 2328 \nQ 422 3509 836 4129 \nQ 1250 4750 2034 4750 \nz\n\" id=\"DejaVuSans-30\" transform=\"scale(0.015625)\"/>\n       </defs>\n       <use xlink:href=\"#DejaVuSans-30\"/>\n      </g>\n     </g>\n    </g>\n    <g id=\"xtick_2\">\n     <g id=\"line2d_2\">\n      <g>\n       <use style=\"stroke:#000000;stroke-width:0.8;\" x=\"160.734998\" xlink:href=\"#m9a1b697785\" y=\"239.758125\"/>\n      </g>\n     </g>\n     <g id=\"text_2\">\n      <!-- 5 -->\n      <g transform=\"translate(157.553748 254.356562)scale(0.1 -0.1)\">\n       <defs>\n        <path d=\"M 691 4666 \nL 3169 4666 \nL 3169 4134 \nL 1269 4134 \nL 1269 2991 \nQ 1406 3038 1543 3061 \nQ 1681 3084 1819 3084 \nQ 2600 3084 3056 2656 \nQ 3513 2228 3513 1497 \nQ 3513 744 3044 326 \nQ 2575 -91 1722 -91 \nQ 1428 -91 1123 -41 \nQ 819 9 494 109 \nL 494 744 \nQ 775 591 1075 516 \nQ 1375 441 1709 441 \nQ 2250 441 2565 725 \nQ 2881 1009 2881 1497 \nQ 2881 1984 2565 2268 \nQ 2250 2553 1709 2553 \nQ 1456 2553 1204 2497 \nQ 953 2441 691 2322 \nL 691 4666 \nz\n\" id=\"DejaVuSans-35\" transform=\"scale(0.015625)\"/>\n       </defs>\n       <use xlink:href=\"#DejaVuSans-35\"/>\n      </g>\n     </g>\n    </g>\n    <g id=\"xtick_3\">\n     <g id=\"line2d_3\">\n      <g>\n       <use style=\"stroke:#000000;stroke-width:0.8;\" x=\"213.211487\" xlink:href=\"#m9a1b697785\" y=\"239.758125\"/>\n      </g>\n     </g>\n     <g id=\"text_3\">\n      <!-- 10 -->\n      <g transform=\"translate(206.848987 254.356562)scale(0.1 -0.1)\">\n       <defs>\n        <path d=\"M 794 531 \nL 1825 531 \nL 1825 4091 \nL 703 3866 \nL 703 4441 \nL 1819 4666 \nL 2450 4666 \nL 2450 531 \nL 3481 531 \nL 3481 0 \nL 794 0 \nL 794 531 \nz\n\" id=\"DejaVuSans-31\" transform=\"scale(0.015625)\"/>\n       </defs>\n       <use xlink:href=\"#DejaVuSans-31\"/>\n       <use x=\"63.623047\" xlink:href=\"#DejaVuSans-30\"/>\n      </g>\n     </g>\n    </g>\n    <g id=\"xtick_4\">\n     <g id=\"line2d_4\">\n      <g>\n       <use style=\"stroke:#000000;stroke-width:0.8;\" x=\"265.687976\" xlink:href=\"#m9a1b697785\" y=\"239.758125\"/>\n      </g>\n     </g>\n     <g id=\"text_4\">\n      <!-- 15 -->\n      <g transform=\"translate(259.325476 254.356562)scale(0.1 -0.1)\">\n       <use xlink:href=\"#DejaVuSans-31\"/>\n       <use x=\"63.623047\" xlink:href=\"#DejaVuSans-35\"/>\n      </g>\n     </g>\n    </g>\n    <g id=\"xtick_5\">\n     <g id=\"line2d_5\">\n      <g>\n       <use style=\"stroke:#000000;stroke-width:0.8;\" x=\"318.164465\" xlink:href=\"#m9a1b697785\" y=\"239.758125\"/>\n      </g>\n     </g>\n     <g id=\"text_5\">\n      <!-- 20 -->\n      <g transform=\"translate(311.801965 254.356562)scale(0.1 -0.1)\">\n       <defs>\n        <path d=\"M 1228 531 \nL 3431 531 \nL 3431 0 \nL 469 0 \nL 469 531 \nQ 828 903 1448 1529 \nQ 2069 2156 2228 2338 \nQ 2531 2678 2651 2914 \nQ 2772 3150 2772 3378 \nQ 2772 3750 2511 3984 \nQ 2250 4219 1831 4219 \nQ 1534 4219 1204 4116 \nQ 875 4013 500 3803 \nL 500 4441 \nQ 881 4594 1212 4672 \nQ 1544 4750 1819 4750 \nQ 2544 4750 2975 4387 \nQ 3406 4025 3406 3419 \nQ 3406 3131 3298 2873 \nQ 3191 2616 2906 2266 \nQ 2828 2175 2409 1742 \nQ 1991 1309 1228 531 \nz\n\" id=\"DejaVuSans-32\" transform=\"scale(0.015625)\"/>\n       </defs>\n       <use xlink:href=\"#DejaVuSans-32\"/>\n       <use x=\"63.623047\" xlink:href=\"#DejaVuSans-30\"/>\n      </g>\n     </g>\n    </g>\n    <g id=\"xtick_6\">\n     <g id=\"line2d_6\">\n      <g>\n       <use style=\"stroke:#000000;stroke-width:0.8;\" x=\"370.640954\" xlink:href=\"#m9a1b697785\" y=\"239.758125\"/>\n      </g>\n     </g>\n     <g id=\"text_6\">\n      <!-- 25 -->\n      <g transform=\"translate(364.278454 254.356562)scale(0.1 -0.1)\">\n       <use xlink:href=\"#DejaVuSans-32\"/>\n       <use x=\"63.623047\" xlink:href=\"#DejaVuSans-35\"/>\n      </g>\n     </g>\n    </g>\n    <g id=\"xtick_7\">\n     <g id=\"line2d_7\">\n      <g>\n       <use style=\"stroke:#000000;stroke-width:0.8;\" x=\"423.117443\" xlink:href=\"#m9a1b697785\" y=\"239.758125\"/>\n      </g>\n     </g>\n     <g id=\"text_7\">\n      <!-- 30 -->\n      <g transform=\"translate(416.754943 254.356562)scale(0.1 -0.1)\">\n       <defs>\n        <path d=\"M 2597 2516 \nQ 3050 2419 3304 2112 \nQ 3559 1806 3559 1356 \nQ 3559 666 3084 287 \nQ 2609 -91 1734 -91 \nQ 1441 -91 1130 -33 \nQ 819 25 488 141 \nL 488 750 \nQ 750 597 1062 519 \nQ 1375 441 1716 441 \nQ 2309 441 2620 675 \nQ 2931 909 2931 1356 \nQ 2931 1769 2642 2001 \nQ 2353 2234 1838 2234 \nL 1294 2234 \nL 1294 2753 \nL 1863 2753 \nQ 2328 2753 2575 2939 \nQ 2822 3125 2822 3475 \nQ 2822 3834 2567 4026 \nQ 2313 4219 1838 4219 \nQ 1578 4219 1281 4162 \nQ 984 4106 628 3988 \nL 628 4550 \nQ 988 4650 1302 4700 \nQ 1616 4750 1894 4750 \nQ 2613 4750 3031 4423 \nQ 3450 4097 3450 3541 \nQ 3450 3153 3228 2886 \nQ 3006 2619 2597 2516 \nz\n\" id=\"DejaVuSans-33\" transform=\"scale(0.015625)\"/>\n       </defs>\n       <use xlink:href=\"#DejaVuSans-33\"/>\n       <use x=\"63.623047\" xlink:href=\"#DejaVuSans-30\"/>\n      </g>\n     </g>\n    </g>\n    <g id=\"text_8\">\n     <!-- Value of K for KNN -->\n     <g transform=\"translate(225.114531 268.034687)scale(0.1 -0.1)\">\n      <defs>\n       <path d=\"M 1831 0 \nL 50 4666 \nL 709 4666 \nL 2188 738 \nL 3669 4666 \nL 4325 4666 \nL 2547 0 \nL 1831 0 \nz\n\" id=\"DejaVuSans-56\" transform=\"scale(0.015625)\"/>\n       <path d=\"M 2194 1759 \nQ 1497 1759 1228 1600 \nQ 959 1441 959 1056 \nQ 959 750 1161 570 \nQ 1363 391 1709 391 \nQ 2188 391 2477 730 \nQ 2766 1069 2766 1631 \nL 2766 1759 \nL 2194 1759 \nz\nM 3341 1997 \nL 3341 0 \nL 2766 0 \nL 2766 531 \nQ 2569 213 2275 61 \nQ 1981 -91 1556 -91 \nQ 1019 -91 701 211 \nQ 384 513 384 1019 \nQ 384 1609 779 1909 \nQ 1175 2209 1959 2209 \nL 2766 2209 \nL 2766 2266 \nQ 2766 2663 2505 2880 \nQ 2244 3097 1772 3097 \nQ 1472 3097 1187 3025 \nQ 903 2953 641 2809 \nL 641 3341 \nQ 956 3463 1253 3523 \nQ 1550 3584 1831 3584 \nQ 2591 3584 2966 3190 \nQ 3341 2797 3341 1997 \nz\n\" id=\"DejaVuSans-61\" transform=\"scale(0.015625)\"/>\n       <path d=\"M 603 4863 \nL 1178 4863 \nL 1178 0 \nL 603 0 \nL 603 4863 \nz\n\" id=\"DejaVuSans-6c\" transform=\"scale(0.015625)\"/>\n       <path d=\"M 544 1381 \nL 544 3500 \nL 1119 3500 \nL 1119 1403 \nQ 1119 906 1312 657 \nQ 1506 409 1894 409 \nQ 2359 409 2629 706 \nQ 2900 1003 2900 1516 \nL 2900 3500 \nL 3475 3500 \nL 3475 0 \nL 2900 0 \nL 2900 538 \nQ 2691 219 2414 64 \nQ 2138 -91 1772 -91 \nQ 1169 -91 856 284 \nQ 544 659 544 1381 \nz\nM 1991 3584 \nL 1991 3584 \nz\n\" id=\"DejaVuSans-75\" transform=\"scale(0.015625)\"/>\n       <path d=\"M 3597 1894 \nL 3597 1613 \nL 953 1613 \nQ 991 1019 1311 708 \nQ 1631 397 2203 397 \nQ 2534 397 2845 478 \nQ 3156 559 3463 722 \nL 3463 178 \nQ 3153 47 2828 -22 \nQ 2503 -91 2169 -91 \nQ 1331 -91 842 396 \nQ 353 884 353 1716 \nQ 353 2575 817 3079 \nQ 1281 3584 2069 3584 \nQ 2775 3584 3186 3129 \nQ 3597 2675 3597 1894 \nz\nM 3022 2063 \nQ 3016 2534 2758 2815 \nQ 2500 3097 2075 3097 \nQ 1594 3097 1305 2825 \nQ 1016 2553 972 2059 \nL 3022 2063 \nz\n\" id=\"DejaVuSans-65\" transform=\"scale(0.015625)\"/>\n       <path id=\"DejaVuSans-20\" transform=\"scale(0.015625)\"/>\n       <path d=\"M 1959 3097 \nQ 1497 3097 1228 2736 \nQ 959 2375 959 1747 \nQ 959 1119 1226 758 \nQ 1494 397 1959 397 \nQ 2419 397 2687 759 \nQ 2956 1122 2956 1747 \nQ 2956 2369 2687 2733 \nQ 2419 3097 1959 3097 \nz\nM 1959 3584 \nQ 2709 3584 3137 3096 \nQ 3566 2609 3566 1747 \nQ 3566 888 3137 398 \nQ 2709 -91 1959 -91 \nQ 1206 -91 779 398 \nQ 353 888 353 1747 \nQ 353 2609 779 3096 \nQ 1206 3584 1959 3584 \nz\n\" id=\"DejaVuSans-6f\" transform=\"scale(0.015625)\"/>\n       <path d=\"M 2375 4863 \nL 2375 4384 \nL 1825 4384 \nQ 1516 4384 1395 4259 \nQ 1275 4134 1275 3809 \nL 1275 3500 \nL 2222 3500 \nL 2222 3053 \nL 1275 3053 \nL 1275 0 \nL 697 0 \nL 697 3053 \nL 147 3053 \nL 147 3500 \nL 697 3500 \nL 697 3744 \nQ 697 4328 969 4595 \nQ 1241 4863 1831 4863 \nL 2375 4863 \nz\n\" id=\"DejaVuSans-66\" transform=\"scale(0.015625)\"/>\n       <path d=\"M 628 4666 \nL 1259 4666 \nL 1259 2694 \nL 3353 4666 \nL 4166 4666 \nL 1850 2491 \nL 4331 0 \nL 3500 0 \nL 1259 2247 \nL 1259 0 \nL 628 0 \nL 628 4666 \nz\n\" id=\"DejaVuSans-4b\" transform=\"scale(0.015625)\"/>\n       <path d=\"M 2631 2963 \nQ 2534 3019 2420 3045 \nQ 2306 3072 2169 3072 \nQ 1681 3072 1420 2755 \nQ 1159 2438 1159 1844 \nL 1159 0 \nL 581 0 \nL 581 3500 \nL 1159 3500 \nL 1159 2956 \nQ 1341 3275 1631 3429 \nQ 1922 3584 2338 3584 \nQ 2397 3584 2469 3576 \nQ 2541 3569 2628 3553 \nL 2631 2963 \nz\n\" id=\"DejaVuSans-72\" transform=\"scale(0.015625)\"/>\n       <path d=\"M 628 4666 \nL 1478 4666 \nL 3547 763 \nL 3547 4666 \nL 4159 4666 \nL 4159 0 \nL 3309 0 \nL 1241 3903 \nL 1241 0 \nL 628 0 \nL 628 4666 \nz\n\" id=\"DejaVuSans-4e\" transform=\"scale(0.015625)\"/>\n      </defs>\n      <use xlink:href=\"#DejaVuSans-56\"/>\n      <use x=\"60.658203\" xlink:href=\"#DejaVuSans-61\"/>\n      <use x=\"121.9375\" xlink:href=\"#DejaVuSans-6c\"/>\n      <use x=\"149.720703\" xlink:href=\"#DejaVuSans-75\"/>\n      <use x=\"213.099609\" xlink:href=\"#DejaVuSans-65\"/>\n      <use x=\"274.623047\" xlink:href=\"#DejaVuSans-20\"/>\n      <use x=\"306.410156\" xlink:href=\"#DejaVuSans-6f\"/>\n      <use x=\"367.591797\" xlink:href=\"#DejaVuSans-66\"/>\n      <use x=\"402.796875\" xlink:href=\"#DejaVuSans-20\"/>\n      <use x=\"434.583984\" xlink:href=\"#DejaVuSans-4b\"/>\n      <use x=\"500.160156\" xlink:href=\"#DejaVuSans-20\"/>\n      <use x=\"531.947266\" xlink:href=\"#DejaVuSans-66\"/>\n      <use x=\"567.152344\" xlink:href=\"#DejaVuSans-6f\"/>\n      <use x=\"628.333984\" xlink:href=\"#DejaVuSans-72\"/>\n      <use x=\"669.447266\" xlink:href=\"#DejaVuSans-20\"/>\n      <use x=\"701.234375\" xlink:href=\"#DejaVuSans-4b\"/>\n      <use x=\"766.810547\" xlink:href=\"#DejaVuSans-4e\"/>\n      <use x=\"841.615234\" xlink:href=\"#DejaVuSans-4e\"/>\n     </g>\n    </g>\n   </g>\n   <g id=\"matplotlib.axis_2\">\n    <g id=\"ytick_1\">\n     <g id=\"line2d_8\">\n      <defs>\n       <path d=\"M 0 0 \nL -3.5 0 \n\" id=\"m9361890ce2\" style=\"stroke:#000000;stroke-width:0.8;\"/>\n      </defs>\n      <g>\n       <use style=\"stroke:#000000;stroke-width:0.8;\" x=\"103.535625\" xlink:href=\"#m9361890ce2\" y=\"229.874489\"/>\n      </g>\n     </g>\n     <g id=\"text_9\">\n      <!-- 0.950 -->\n      <g transform=\"translate(67.9075 233.673707)scale(0.1 -0.1)\">\n       <defs>\n        <path d=\"M 684 794 \nL 1344 794 \nL 1344 0 \nL 684 0 \nL 684 794 \nz\n\" id=\"DejaVuSans-2e\" transform=\"scale(0.015625)\"/>\n        <path d=\"M 703 97 \nL 703 672 \nQ 941 559 1184 500 \nQ 1428 441 1663 441 \nQ 2288 441 2617 861 \nQ 2947 1281 2994 2138 \nQ 2813 1869 2534 1725 \nQ 2256 1581 1919 1581 \nQ 1219 1581 811 2004 \nQ 403 2428 403 3163 \nQ 403 3881 828 4315 \nQ 1253 4750 1959 4750 \nQ 2769 4750 3195 4129 \nQ 3622 3509 3622 2328 \nQ 3622 1225 3098 567 \nQ 2575 -91 1691 -91 \nQ 1453 -91 1209 -44 \nQ 966 3 703 97 \nz\nM 1959 2075 \nQ 2384 2075 2632 2365 \nQ 2881 2656 2881 3163 \nQ 2881 3666 2632 3958 \nQ 2384 4250 1959 4250 \nQ 1534 4250 1286 3958 \nQ 1038 3666 1038 3163 \nQ 1038 2656 1286 2365 \nQ 1534 2075 1959 2075 \nz\n\" id=\"DejaVuSans-39\" transform=\"scale(0.015625)\"/>\n       </defs>\n       <use xlink:href=\"#DejaVuSans-30\"/>\n       <use x=\"63.623047\" xlink:href=\"#DejaVuSans-2e\"/>\n       <use x=\"95.410156\" xlink:href=\"#DejaVuSans-39\"/>\n       <use x=\"159.033203\" xlink:href=\"#DejaVuSans-35\"/>\n       <use x=\"222.65625\" xlink:href=\"#DejaVuSans-30\"/>\n      </g>\n     </g>\n    </g>\n    <g id=\"ytick_2\">\n     <g id=\"line2d_9\">\n      <g>\n       <use style=\"stroke:#000000;stroke-width:0.8;\" x=\"103.535625\" xlink:href=\"#m9361890ce2\" y=\"200.22358\"/>\n      </g>\n     </g>\n     <g id=\"text_10\">\n      <!-- 0.955 -->\n      <g transform=\"translate(67.9075 204.022798)scale(0.1 -0.1)\">\n       <use xlink:href=\"#DejaVuSans-30\"/>\n       <use x=\"63.623047\" xlink:href=\"#DejaVuSans-2e\"/>\n       <use x=\"95.410156\" xlink:href=\"#DejaVuSans-39\"/>\n       <use x=\"159.033203\" xlink:href=\"#DejaVuSans-35\"/>\n       <use x=\"222.65625\" xlink:href=\"#DejaVuSans-35\"/>\n      </g>\n     </g>\n    </g>\n    <g id=\"ytick_3\">\n     <g id=\"line2d_10\">\n      <g>\n       <use style=\"stroke:#000000;stroke-width:0.8;\" x=\"103.535625\" xlink:href=\"#m9361890ce2\" y=\"170.57267\"/>\n      </g>\n     </g>\n     <g id=\"text_11\">\n      <!-- 0.960 -->\n      <g transform=\"translate(67.9075 174.371889)scale(0.1 -0.1)\">\n       <defs>\n        <path d=\"M 2113 2584 \nQ 1688 2584 1439 2293 \nQ 1191 2003 1191 1497 \nQ 1191 994 1439 701 \nQ 1688 409 2113 409 \nQ 2538 409 2786 701 \nQ 3034 994 3034 1497 \nQ 3034 2003 2786 2293 \nQ 2538 2584 2113 2584 \nz\nM 3366 4563 \nL 3366 3988 \nQ 3128 4100 2886 4159 \nQ 2644 4219 2406 4219 \nQ 1781 4219 1451 3797 \nQ 1122 3375 1075 2522 \nQ 1259 2794 1537 2939 \nQ 1816 3084 2150 3084 \nQ 2853 3084 3261 2657 \nQ 3669 2231 3669 1497 \nQ 3669 778 3244 343 \nQ 2819 -91 2113 -91 \nQ 1303 -91 875 529 \nQ 447 1150 447 2328 \nQ 447 3434 972 4092 \nQ 1497 4750 2381 4750 \nQ 2619 4750 2861 4703 \nQ 3103 4656 3366 4563 \nz\n\" id=\"DejaVuSans-36\" transform=\"scale(0.015625)\"/>\n       </defs>\n       <use xlink:href=\"#DejaVuSans-30\"/>\n       <use x=\"63.623047\" xlink:href=\"#DejaVuSans-2e\"/>\n       <use x=\"95.410156\" xlink:href=\"#DejaVuSans-39\"/>\n       <use x=\"159.033203\" xlink:href=\"#DejaVuSans-36\"/>\n       <use x=\"222.65625\" xlink:href=\"#DejaVuSans-30\"/>\n      </g>\n     </g>\n    </g>\n    <g id=\"ytick_4\">\n     <g id=\"line2d_11\">\n      <g>\n       <use style=\"stroke:#000000;stroke-width:0.8;\" x=\"103.535625\" xlink:href=\"#m9361890ce2\" y=\"140.921761\"/>\n      </g>\n     </g>\n     <g id=\"text_12\">\n      <!-- 0.965 -->\n      <g transform=\"translate(67.9075 144.72098)scale(0.1 -0.1)\">\n       <use xlink:href=\"#DejaVuSans-30\"/>\n       <use x=\"63.623047\" xlink:href=\"#DejaVuSans-2e\"/>\n       <use x=\"95.410156\" xlink:href=\"#DejaVuSans-39\"/>\n       <use x=\"159.033203\" xlink:href=\"#DejaVuSans-36\"/>\n       <use x=\"222.65625\" xlink:href=\"#DejaVuSans-35\"/>\n      </g>\n     </g>\n    </g>\n    <g id=\"ytick_5\">\n     <g id=\"line2d_12\">\n      <g>\n       <use style=\"stroke:#000000;stroke-width:0.8;\" x=\"103.535625\" xlink:href=\"#m9361890ce2\" y=\"111.270852\"/>\n      </g>\n     </g>\n     <g id=\"text_13\">\n      <!-- 0.970 -->\n      <g transform=\"translate(67.9075 115.070071)scale(0.1 -0.1)\">\n       <defs>\n        <path d=\"M 525 4666 \nL 3525 4666 \nL 3525 4397 \nL 1831 0 \nL 1172 0 \nL 2766 4134 \nL 525 4134 \nL 525 4666 \nz\n\" id=\"DejaVuSans-37\" transform=\"scale(0.015625)\"/>\n       </defs>\n       <use xlink:href=\"#DejaVuSans-30\"/>\n       <use x=\"63.623047\" xlink:href=\"#DejaVuSans-2e\"/>\n       <use x=\"95.410156\" xlink:href=\"#DejaVuSans-39\"/>\n       <use x=\"159.033203\" xlink:href=\"#DejaVuSans-37\"/>\n       <use x=\"222.65625\" xlink:href=\"#DejaVuSans-30\"/>\n      </g>\n     </g>\n    </g>\n    <g id=\"ytick_6\">\n     <g id=\"line2d_13\">\n      <g>\n       <use style=\"stroke:#000000;stroke-width:0.8;\" x=\"103.535625\" xlink:href=\"#m9361890ce2\" y=\"81.619943\"/>\n      </g>\n     </g>\n     <g id=\"text_14\">\n      <!-- 0.975 -->\n      <g transform=\"translate(67.9075 85.419162)scale(0.1 -0.1)\">\n       <use xlink:href=\"#DejaVuSans-30\"/>\n       <use x=\"63.623047\" xlink:href=\"#DejaVuSans-2e\"/>\n       <use x=\"95.410156\" xlink:href=\"#DejaVuSans-39\"/>\n       <use x=\"159.033203\" xlink:href=\"#DejaVuSans-37\"/>\n       <use x=\"222.65625\" xlink:href=\"#DejaVuSans-35\"/>\n      </g>\n     </g>\n    </g>\n    <g id=\"ytick_7\">\n     <g id=\"line2d_14\">\n      <g>\n       <use style=\"stroke:#000000;stroke-width:0.8;\" x=\"103.535625\" xlink:href=\"#m9361890ce2\" y=\"51.969034\"/>\n      </g>\n     </g>\n     <g id=\"text_15\">\n      <!-- 0.980 -->\n      <g transform=\"translate(67.9075 55.768253)scale(0.1 -0.1)\">\n       <defs>\n        <path d=\"M 2034 2216 \nQ 1584 2216 1326 1975 \nQ 1069 1734 1069 1313 \nQ 1069 891 1326 650 \nQ 1584 409 2034 409 \nQ 2484 409 2743 651 \nQ 3003 894 3003 1313 \nQ 3003 1734 2745 1975 \nQ 2488 2216 2034 2216 \nz\nM 1403 2484 \nQ 997 2584 770 2862 \nQ 544 3141 544 3541 \nQ 544 4100 942 4425 \nQ 1341 4750 2034 4750 \nQ 2731 4750 3128 4425 \nQ 3525 4100 3525 3541 \nQ 3525 3141 3298 2862 \nQ 3072 2584 2669 2484 \nQ 3125 2378 3379 2068 \nQ 3634 1759 3634 1313 \nQ 3634 634 3220 271 \nQ 2806 -91 2034 -91 \nQ 1263 -91 848 271 \nQ 434 634 434 1313 \nQ 434 1759 690 2068 \nQ 947 2378 1403 2484 \nz\nM 1172 3481 \nQ 1172 3119 1398 2916 \nQ 1625 2713 2034 2713 \nQ 2441 2713 2670 2916 \nQ 2900 3119 2900 3481 \nQ 2900 3844 2670 4047 \nQ 2441 4250 2034 4250 \nQ 1625 4250 1398 4047 \nQ 1172 3844 1172 3481 \nz\n\" id=\"DejaVuSans-38\" transform=\"scale(0.015625)\"/>\n       </defs>\n       <use xlink:href=\"#DejaVuSans-30\"/>\n       <use x=\"63.623047\" xlink:href=\"#DejaVuSans-2e\"/>\n       <use x=\"95.410156\" xlink:href=\"#DejaVuSans-39\"/>\n       <use x=\"159.033203\" xlink:href=\"#DejaVuSans-38\"/>\n       <use x=\"222.65625\" xlink:href=\"#DejaVuSans-30\"/>\n      </g>\n     </g>\n    </g>\n    <g id=\"ytick_8\">\n     <g id=\"line2d_15\">\n      <g>\n       <use style=\"stroke:#000000;stroke-width:0.8;\" x=\"103.535625\" xlink:href=\"#m9361890ce2\" y=\"22.318125\"/>\n      </g>\n     </g>\n     <g id=\"text_16\">\n      <!-- 0.985 -->\n      <g transform=\"translate(67.9075 26.117344)scale(0.1 -0.1)\">\n       <use xlink:href=\"#DejaVuSans-30\"/>\n       <use x=\"63.623047\" xlink:href=\"#DejaVuSans-2e\"/>\n       <use x=\"95.410156\" xlink:href=\"#DejaVuSans-39\"/>\n       <use x=\"159.033203\" xlink:href=\"#DejaVuSans-38\"/>\n       <use x=\"222.65625\" xlink:href=\"#DejaVuSans-35\"/>\n      </g>\n     </g>\n    </g>\n    <g id=\"text_17\">\n     <!-- Testing Accuracy -->\n     <g transform=\"translate(61.827812 173.032656)rotate(-90)scale(0.1 -0.1)\">\n      <defs>\n       <path d=\"M -19 4666 \nL 3928 4666 \nL 3928 4134 \nL 2272 4134 \nL 2272 0 \nL 1638 0 \nL 1638 4134 \nL -19 4134 \nL -19 4666 \nz\n\" id=\"DejaVuSans-54\" transform=\"scale(0.015625)\"/>\n       <path d=\"M 2834 3397 \nL 2834 2853 \nQ 2591 2978 2328 3040 \nQ 2066 3103 1784 3103 \nQ 1356 3103 1142 2972 \nQ 928 2841 928 2578 \nQ 928 2378 1081 2264 \nQ 1234 2150 1697 2047 \nL 1894 2003 \nQ 2506 1872 2764 1633 \nQ 3022 1394 3022 966 \nQ 3022 478 2636 193 \nQ 2250 -91 1575 -91 \nQ 1294 -91 989 -36 \nQ 684 19 347 128 \nL 347 722 \nQ 666 556 975 473 \nQ 1284 391 1588 391 \nQ 1994 391 2212 530 \nQ 2431 669 2431 922 \nQ 2431 1156 2273 1281 \nQ 2116 1406 1581 1522 \nL 1381 1569 \nQ 847 1681 609 1914 \nQ 372 2147 372 2553 \nQ 372 3047 722 3315 \nQ 1072 3584 1716 3584 \nQ 2034 3584 2315 3537 \nQ 2597 3491 2834 3397 \nz\n\" id=\"DejaVuSans-73\" transform=\"scale(0.015625)\"/>\n       <path d=\"M 1172 4494 \nL 1172 3500 \nL 2356 3500 \nL 2356 3053 \nL 1172 3053 \nL 1172 1153 \nQ 1172 725 1289 603 \nQ 1406 481 1766 481 \nL 2356 481 \nL 2356 0 \nL 1766 0 \nQ 1100 0 847 248 \nQ 594 497 594 1153 \nL 594 3053 \nL 172 3053 \nL 172 3500 \nL 594 3500 \nL 594 4494 \nL 1172 4494 \nz\n\" id=\"DejaVuSans-74\" transform=\"scale(0.015625)\"/>\n       <path d=\"M 603 3500 \nL 1178 3500 \nL 1178 0 \nL 603 0 \nL 603 3500 \nz\nM 603 4863 \nL 1178 4863 \nL 1178 4134 \nL 603 4134 \nL 603 4863 \nz\n\" id=\"DejaVuSans-69\" transform=\"scale(0.015625)\"/>\n       <path d=\"M 3513 2113 \nL 3513 0 \nL 2938 0 \nL 2938 2094 \nQ 2938 2591 2744 2837 \nQ 2550 3084 2163 3084 \nQ 1697 3084 1428 2787 \nQ 1159 2491 1159 1978 \nL 1159 0 \nL 581 0 \nL 581 3500 \nL 1159 3500 \nL 1159 2956 \nQ 1366 3272 1645 3428 \nQ 1925 3584 2291 3584 \nQ 2894 3584 3203 3211 \nQ 3513 2838 3513 2113 \nz\n\" id=\"DejaVuSans-6e\" transform=\"scale(0.015625)\"/>\n       <path d=\"M 2906 1791 \nQ 2906 2416 2648 2759 \nQ 2391 3103 1925 3103 \nQ 1463 3103 1205 2759 \nQ 947 2416 947 1791 \nQ 947 1169 1205 825 \nQ 1463 481 1925 481 \nQ 2391 481 2648 825 \nQ 2906 1169 2906 1791 \nz\nM 3481 434 \nQ 3481 -459 3084 -895 \nQ 2688 -1331 1869 -1331 \nQ 1566 -1331 1297 -1286 \nQ 1028 -1241 775 -1147 \nL 775 -588 \nQ 1028 -725 1275 -790 \nQ 1522 -856 1778 -856 \nQ 2344 -856 2625 -561 \nQ 2906 -266 2906 331 \nL 2906 616 \nQ 2728 306 2450 153 \nQ 2172 0 1784 0 \nQ 1141 0 747 490 \nQ 353 981 353 1791 \nQ 353 2603 747 3093 \nQ 1141 3584 1784 3584 \nQ 2172 3584 2450 3431 \nQ 2728 3278 2906 2969 \nL 2906 3500 \nL 3481 3500 \nL 3481 434 \nz\n\" id=\"DejaVuSans-67\" transform=\"scale(0.015625)\"/>\n       <path d=\"M 2188 4044 \nL 1331 1722 \nL 3047 1722 \nL 2188 4044 \nz\nM 1831 4666 \nL 2547 4666 \nL 4325 0 \nL 3669 0 \nL 3244 1197 \nL 1141 1197 \nL 716 0 \nL 50 0 \nL 1831 4666 \nz\n\" id=\"DejaVuSans-41\" transform=\"scale(0.015625)\"/>\n       <path d=\"M 3122 3366 \nL 3122 2828 \nQ 2878 2963 2633 3030 \nQ 2388 3097 2138 3097 \nQ 1578 3097 1268 2742 \nQ 959 2388 959 1747 \nQ 959 1106 1268 751 \nQ 1578 397 2138 397 \nQ 2388 397 2633 464 \nQ 2878 531 3122 666 \nL 3122 134 \nQ 2881 22 2623 -34 \nQ 2366 -91 2075 -91 \nQ 1284 -91 818 406 \nQ 353 903 353 1747 \nQ 353 2603 823 3093 \nQ 1294 3584 2113 3584 \nQ 2378 3584 2631 3529 \nQ 2884 3475 3122 3366 \nz\n\" id=\"DejaVuSans-63\" transform=\"scale(0.015625)\"/>\n       <path d=\"M 2059 -325 \nQ 1816 -950 1584 -1140 \nQ 1353 -1331 966 -1331 \nL 506 -1331 \nL 506 -850 \nL 844 -850 \nQ 1081 -850 1212 -737 \nQ 1344 -625 1503 -206 \nL 1606 56 \nL 191 3500 \nL 800 3500 \nL 1894 763 \nL 2988 3500 \nL 3597 3500 \nL 2059 -325 \nz\n\" id=\"DejaVuSans-79\" transform=\"scale(0.015625)\"/>\n      </defs>\n      <use xlink:href=\"#DejaVuSans-54\"/>\n      <use x=\"44.083984\" xlink:href=\"#DejaVuSans-65\"/>\n      <use x=\"105.607422\" xlink:href=\"#DejaVuSans-73\"/>\n      <use x=\"157.707031\" xlink:href=\"#DejaVuSans-74\"/>\n      <use x=\"196.916016\" xlink:href=\"#DejaVuSans-69\"/>\n      <use x=\"224.699219\" xlink:href=\"#DejaVuSans-6e\"/>\n      <use x=\"288.078125\" xlink:href=\"#DejaVuSans-67\"/>\n      <use x=\"351.554688\" xlink:href=\"#DejaVuSans-20\"/>\n      <use x=\"383.341797\" xlink:href=\"#DejaVuSans-41\"/>\n      <use x=\"450\" xlink:href=\"#DejaVuSans-63\"/>\n      <use x=\"504.980469\" xlink:href=\"#DejaVuSans-63\"/>\n      <use x=\"559.960938\" xlink:href=\"#DejaVuSans-75\"/>\n      <use x=\"623.339844\" xlink:href=\"#DejaVuSans-72\"/>\n      <use x=\"664.453125\" xlink:href=\"#DejaVuSans-61\"/>\n      <use x=\"725.732422\" xlink:href=\"#DejaVuSans-63\"/>\n      <use x=\"780.712891\" xlink:href=\"#DejaVuSans-79\"/>\n     </g>\n    </g>\n   </g>\n   <g id=\"line2d_16\">\n    <path clip-path=\"url(#p15ca701850)\" d=\"M 118.753807 229.874489 \nL 129.249105 229.874489 \nL 139.744402 131.038125 \nL 150.2397 131.038125 \nL 160.734998 131.038125 \nL 171.230296 32.201761 \nL 181.725594 32.201761 \nL 192.220891 32.201761 \nL 202.716189 32.201761 \nL 213.211487 32.201761 \nL 223.706785 32.201761 \nL 234.202083 32.201761 \nL 244.69738 32.201761 \nL 255.192678 32.201761 \nL 265.687976 32.201761 \nL 276.183274 32.201761 \nL 286.678572 32.201761 \nL 297.17387 131.038125 \nL 307.669167 32.201761 \nL 318.164465 131.038125 \nL 328.659763 131.038125 \nL 339.155061 131.038125 \nL 349.650359 131.038125 \nL 360.145656 229.874489 \nL 370.640954 229.874489 \nL 381.136252 229.874489 \nL 391.63155 229.874489 \nL 402.126848 131.038125 \nL 412.622145 229.874489 \nL 423.117443 131.038125 \n\" style=\"fill:none;stroke:#1f77b4;stroke-linecap:square;stroke-width:1.5;\"/>\n   </g>\n   <g id=\"patch_3\">\n    <path d=\"M 103.535625 239.758125 \nL 103.535625 22.318125 \n\" style=\"fill:none;stroke:#000000;stroke-linecap:square;stroke-linejoin:miter;stroke-width:0.8;\"/>\n   </g>\n   <g id=\"patch_4\">\n    <path d=\"M 438.335625 239.758125 \nL 438.335625 22.318125 \n\" style=\"fill:none;stroke:#000000;stroke-linecap:square;stroke-linejoin:miter;stroke-width:0.8;\"/>\n   </g>\n   <g id=\"patch_5\">\n    <path d=\"M 103.535625 239.758125 \nL 438.335625 239.758125 \n\" style=\"fill:none;stroke:#000000;stroke-linecap:square;stroke-linejoin:miter;stroke-width:0.8;\"/>\n   </g>\n   <g id=\"patch_6\">\n    <path d=\"M 103.535625 22.318125 \nL 438.335625 22.318125 \n\" style=\"fill:none;stroke:#000000;stroke-linecap:square;stroke-linejoin:miter;stroke-width:0.8;\"/>\n   </g>\n   <g id=\"text_18\">\n    <!-- Accuracy distribution using KNeighbors Classifier on change pf n_neighbors parameters -->\n    <g transform=\"translate(7.2 16.318125)scale(0.12 -0.12)\">\n     <defs>\n      <path d=\"M 2906 2969 \nL 2906 4863 \nL 3481 4863 \nL 3481 0 \nL 2906 0 \nL 2906 525 \nQ 2725 213 2448 61 \nQ 2172 -91 1784 -91 \nQ 1150 -91 751 415 \nQ 353 922 353 1747 \nQ 353 2572 751 3078 \nQ 1150 3584 1784 3584 \nQ 2172 3584 2448 3432 \nQ 2725 3281 2906 2969 \nz\nM 947 1747 \nQ 947 1113 1208 752 \nQ 1469 391 1925 391 \nQ 2381 391 2643 752 \nQ 2906 1113 2906 1747 \nQ 2906 2381 2643 2742 \nQ 2381 3103 1925 3103 \nQ 1469 3103 1208 2742 \nQ 947 2381 947 1747 \nz\n\" id=\"DejaVuSans-64\" transform=\"scale(0.015625)\"/>\n      <path d=\"M 3116 1747 \nQ 3116 2381 2855 2742 \nQ 2594 3103 2138 3103 \nQ 1681 3103 1420 2742 \nQ 1159 2381 1159 1747 \nQ 1159 1113 1420 752 \nQ 1681 391 2138 391 \nQ 2594 391 2855 752 \nQ 3116 1113 3116 1747 \nz\nM 1159 2969 \nQ 1341 3281 1617 3432 \nQ 1894 3584 2278 3584 \nQ 2916 3584 3314 3078 \nQ 3713 2572 3713 1747 \nQ 3713 922 3314 415 \nQ 2916 -91 2278 -91 \nQ 1894 -91 1617 61 \nQ 1341 213 1159 525 \nL 1159 0 \nL 581 0 \nL 581 4863 \nL 1159 4863 \nL 1159 2969 \nz\n\" id=\"DejaVuSans-62\" transform=\"scale(0.015625)\"/>\n      <path d=\"M 3513 2113 \nL 3513 0 \nL 2938 0 \nL 2938 2094 \nQ 2938 2591 2744 2837 \nQ 2550 3084 2163 3084 \nQ 1697 3084 1428 2787 \nQ 1159 2491 1159 1978 \nL 1159 0 \nL 581 0 \nL 581 4863 \nL 1159 4863 \nL 1159 2956 \nQ 1366 3272 1645 3428 \nQ 1925 3584 2291 3584 \nQ 2894 3584 3203 3211 \nQ 3513 2838 3513 2113 \nz\n\" id=\"DejaVuSans-68\" transform=\"scale(0.015625)\"/>\n      <path d=\"M 4122 4306 \nL 4122 3641 \nQ 3803 3938 3442 4084 \nQ 3081 4231 2675 4231 \nQ 1875 4231 1450 3742 \nQ 1025 3253 1025 2328 \nQ 1025 1406 1450 917 \nQ 1875 428 2675 428 \nQ 3081 428 3442 575 \nQ 3803 722 4122 1019 \nL 4122 359 \nQ 3791 134 3420 21 \nQ 3050 -91 2638 -91 \nQ 1578 -91 968 557 \nQ 359 1206 359 2328 \nQ 359 3453 968 4101 \nQ 1578 4750 2638 4750 \nQ 3056 4750 3426 4639 \nQ 3797 4528 4122 4306 \nz\n\" id=\"DejaVuSans-43\" transform=\"scale(0.015625)\"/>\n      <path d=\"M 1159 525 \nL 1159 -1331 \nL 581 -1331 \nL 581 3500 \nL 1159 3500 \nL 1159 2969 \nQ 1341 3281 1617 3432 \nQ 1894 3584 2278 3584 \nQ 2916 3584 3314 3078 \nQ 3713 2572 3713 1747 \nQ 3713 922 3314 415 \nQ 2916 -91 2278 -91 \nQ 1894 -91 1617 61 \nQ 1341 213 1159 525 \nz\nM 3116 1747 \nQ 3116 2381 2855 2742 \nQ 2594 3103 2138 3103 \nQ 1681 3103 1420 2742 \nQ 1159 2381 1159 1747 \nQ 1159 1113 1420 752 \nQ 1681 391 2138 391 \nQ 2594 391 2855 752 \nQ 3116 1113 3116 1747 \nz\n\" id=\"DejaVuSans-70\" transform=\"scale(0.015625)\"/>\n      <path d=\"M 3263 -1063 \nL 3263 -1509 \nL -63 -1509 \nL -63 -1063 \nL 3263 -1063 \nz\n\" id=\"DejaVuSans-5f\" transform=\"scale(0.015625)\"/>\n      <path d=\"M 3328 2828 \nQ 3544 3216 3844 3400 \nQ 4144 3584 4550 3584 \nQ 5097 3584 5394 3201 \nQ 5691 2819 5691 2113 \nL 5691 0 \nL 5113 0 \nL 5113 2094 \nQ 5113 2597 4934 2840 \nQ 4756 3084 4391 3084 \nQ 3944 3084 3684 2787 \nQ 3425 2491 3425 1978 \nL 3425 0 \nL 2847 0 \nL 2847 2094 \nQ 2847 2600 2669 2842 \nQ 2491 3084 2119 3084 \nQ 1678 3084 1418 2786 \nQ 1159 2488 1159 1978 \nL 1159 0 \nL 581 0 \nL 581 3500 \nL 1159 3500 \nL 1159 2956 \nQ 1356 3278 1631 3431 \nQ 1906 3584 2284 3584 \nQ 2666 3584 2933 3390 \nQ 3200 3197 3328 2828 \nz\n\" id=\"DejaVuSans-6d\" transform=\"scale(0.015625)\"/>\n     </defs>\n     <use xlink:href=\"#DejaVuSans-41\"/>\n     <use x=\"66.658203\" xlink:href=\"#DejaVuSans-63\"/>\n     <use x=\"121.638672\" xlink:href=\"#DejaVuSans-63\"/>\n     <use x=\"176.619141\" xlink:href=\"#DejaVuSans-75\"/>\n     <use x=\"239.998047\" xlink:href=\"#DejaVuSans-72\"/>\n     <use x=\"281.111328\" xlink:href=\"#DejaVuSans-61\"/>\n     <use x=\"342.390625\" xlink:href=\"#DejaVuSans-63\"/>\n     <use x=\"397.371094\" xlink:href=\"#DejaVuSans-79\"/>\n     <use x=\"456.550781\" xlink:href=\"#DejaVuSans-20\"/>\n     <use x=\"488.337891\" xlink:href=\"#DejaVuSans-64\"/>\n     <use x=\"551.814453\" xlink:href=\"#DejaVuSans-69\"/>\n     <use x=\"579.597656\" xlink:href=\"#DejaVuSans-73\"/>\n     <use x=\"631.697266\" xlink:href=\"#DejaVuSans-74\"/>\n     <use x=\"670.90625\" xlink:href=\"#DejaVuSans-72\"/>\n     <use x=\"712.019531\" xlink:href=\"#DejaVuSans-69\"/>\n     <use x=\"739.802734\" xlink:href=\"#DejaVuSans-62\"/>\n     <use x=\"803.279297\" xlink:href=\"#DejaVuSans-75\"/>\n     <use x=\"866.658203\" xlink:href=\"#DejaVuSans-74\"/>\n     <use x=\"905.867188\" xlink:href=\"#DejaVuSans-69\"/>\n     <use x=\"933.650391\" xlink:href=\"#DejaVuSans-6f\"/>\n     <use x=\"994.832031\" xlink:href=\"#DejaVuSans-6e\"/>\n     <use x=\"1058.210938\" xlink:href=\"#DejaVuSans-20\"/>\n     <use x=\"1089.998047\" xlink:href=\"#DejaVuSans-75\"/>\n     <use x=\"1153.376953\" xlink:href=\"#DejaVuSans-73\"/>\n     <use x=\"1205.476562\" xlink:href=\"#DejaVuSans-69\"/>\n     <use x=\"1233.259766\" xlink:href=\"#DejaVuSans-6e\"/>\n     <use x=\"1296.638672\" xlink:href=\"#DejaVuSans-67\"/>\n     <use x=\"1360.115234\" xlink:href=\"#DejaVuSans-20\"/>\n     <use x=\"1391.902344\" xlink:href=\"#DejaVuSans-4b\"/>\n     <use x=\"1457.478516\" xlink:href=\"#DejaVuSans-4e\"/>\n     <use x=\"1532.283203\" xlink:href=\"#DejaVuSans-65\"/>\n     <use x=\"1593.806641\" xlink:href=\"#DejaVuSans-69\"/>\n     <use x=\"1621.589844\" xlink:href=\"#DejaVuSans-67\"/>\n     <use x=\"1685.066406\" xlink:href=\"#DejaVuSans-68\"/>\n     <use x=\"1748.445312\" xlink:href=\"#DejaVuSans-62\"/>\n     <use x=\"1811.921875\" xlink:href=\"#DejaVuSans-6f\"/>\n     <use x=\"1873.103516\" xlink:href=\"#DejaVuSans-72\"/>\n     <use x=\"1914.216797\" xlink:href=\"#DejaVuSans-73\"/>\n     <use x=\"1966.316406\" xlink:href=\"#DejaVuSans-20\"/>\n     <use x=\"1998.103516\" xlink:href=\"#DejaVuSans-43\"/>\n     <use x=\"2067.927734\" xlink:href=\"#DejaVuSans-6c\"/>\n     <use x=\"2095.710938\" xlink:href=\"#DejaVuSans-61\"/>\n     <use x=\"2156.990234\" xlink:href=\"#DejaVuSans-73\"/>\n     <use x=\"2209.089844\" xlink:href=\"#DejaVuSans-73\"/>\n     <use x=\"2261.189453\" xlink:href=\"#DejaVuSans-69\"/>\n     <use x=\"2288.972656\" xlink:href=\"#DejaVuSans-66\"/>\n     <use x=\"2324.177734\" xlink:href=\"#DejaVuSans-69\"/>\n     <use x=\"2351.960938\" xlink:href=\"#DejaVuSans-65\"/>\n     <use x=\"2413.484375\" xlink:href=\"#DejaVuSans-72\"/>\n     <use x=\"2454.597656\" xlink:href=\"#DejaVuSans-20\"/>\n     <use x=\"2486.384766\" xlink:href=\"#DejaVuSans-6f\"/>\n     <use x=\"2547.566406\" xlink:href=\"#DejaVuSans-6e\"/>\n     <use x=\"2610.945312\" xlink:href=\"#DejaVuSans-20\"/>\n     <use x=\"2642.732422\" xlink:href=\"#DejaVuSans-63\"/>\n     <use x=\"2697.712891\" xlink:href=\"#DejaVuSans-68\"/>\n     <use x=\"2761.091797\" xlink:href=\"#DejaVuSans-61\"/>\n     <use x=\"2822.371094\" xlink:href=\"#DejaVuSans-6e\"/>\n     <use x=\"2885.75\" xlink:href=\"#DejaVuSans-67\"/>\n     <use x=\"2949.226562\" xlink:href=\"#DejaVuSans-65\"/>\n     <use x=\"3010.75\" xlink:href=\"#DejaVuSans-20\"/>\n     <use x=\"3042.537109\" xlink:href=\"#DejaVuSans-70\"/>\n     <use x=\"3106.013672\" xlink:href=\"#DejaVuSans-66\"/>\n     <use x=\"3141.21875\" xlink:href=\"#DejaVuSans-20\"/>\n     <use x=\"3173.005859\" xlink:href=\"#DejaVuSans-6e\"/>\n     <use x=\"3236.384766\" xlink:href=\"#DejaVuSans-5f\"/>\n     <use x=\"3286.384766\" xlink:href=\"#DejaVuSans-6e\"/>\n     <use x=\"3349.763672\" xlink:href=\"#DejaVuSans-65\"/>\n     <use x=\"3411.287109\" xlink:href=\"#DejaVuSans-69\"/>\n     <use x=\"3439.070312\" xlink:href=\"#DejaVuSans-67\"/>\n     <use x=\"3502.546875\" xlink:href=\"#DejaVuSans-68\"/>\n     <use x=\"3565.925781\" xlink:href=\"#DejaVuSans-62\"/>\n     <use x=\"3629.402344\" xlink:href=\"#DejaVuSans-6f\"/>\n     <use x=\"3690.583984\" xlink:href=\"#DejaVuSans-72\"/>\n     <use x=\"3731.697266\" xlink:href=\"#DejaVuSans-73\"/>\n     <use x=\"3783.796875\" xlink:href=\"#DejaVuSans-20\"/>\n     <use x=\"3815.583984\" xlink:href=\"#DejaVuSans-70\"/>\n     <use x=\"3879.060547\" xlink:href=\"#DejaVuSans-61\"/>\n     <use x=\"3940.339844\" xlink:href=\"#DejaVuSans-72\"/>\n     <use x=\"3981.453125\" xlink:href=\"#DejaVuSans-61\"/>\n     <use x=\"4042.732422\" xlink:href=\"#DejaVuSans-6d\"/>\n     <use x=\"4140.144531\" xlink:href=\"#DejaVuSans-65\"/>\n     <use x=\"4201.667969\" xlink:href=\"#DejaVuSans-74\"/>\n     <use x=\"4240.876953\" xlink:href=\"#DejaVuSans-65\"/>\n     <use x=\"4302.400391\" xlink:href=\"#DejaVuSans-72\"/>\n     <use x=\"4343.513672\" xlink:href=\"#DejaVuSans-73\"/>\n    </g>\n   </g>\n  </g>\n </g>\n <defs>\n  <clipPath id=\"p15ca701850\">\n   <rect height=\"217.44\" width=\"334.8\" x=\"103.535625\" y=\"22.318125\"/>\n  </clipPath>\n </defs>\n</svg>\n",
      "image/png": "[encoded data removed]"
     },
     "metadata": {
      "needs_background": "light"
     }
    }
   ],
   "metadata": {}
  },
  {
   "cell_type": "markdown",
   "source": [
    "## Finalizing  Model By choosing K=12 (the most accurate Classifier with KNeighbours)\n"
   ],
   "metadata": {}
  },
  {
   "cell_type": "code",
   "execution_count": 16,
   "source": [
    "# instantiate the model with the best known parameters\n",
    "knn = KNeighborsClassifier(n_neighbors=12)\n",
    "# train the model with X and y (not X_train and y_train)\n",
    "knn_clf=knn.fit(X, y)\n",
    "y_pred = knn.predict(X_test)\n",
    "print(metrics.accuracy_score(y_test, y_pred))"
   ],
   "outputs": [
    {
     "output_type": "stream",
     "name": "stdout",
     "text": [
      "0.9833333333333333\n"
     ]
    }
   ],
   "metadata": {}
  },
  {
   "cell_type": "markdown",
   "source": [
    "## Model evaluation"
   ],
   "metadata": {}
  },
  {
   "cell_type": "code",
   "execution_count": 17,
   "source": [
    "from sklearn.metrics import confusion_matrix, accuracy_score, classification_report\n",
    "\n",
    "# instantiate the model with the best known parameters\n",
    "knn = KNeighborsClassifier(n_neighbors=12)\n",
    "\n",
    "# train the model with X and y (not X_train and y_train)\n",
    "knn_clf=knn.fit(X, y)\n",
    "predictions = knn_clf.predict(X_test)\n",
    "print(accuracy_score(y_test, predictions)) #Provides an indication of the accuracy on the validation dataset, it was over 96%\n",
    "print(confusion_matrix(y_test, predictions)) #Provides an indication of the errors made while predicting eadh class\n",
    "print(classification_report(y_test, predictions)) #provides a breakdown of each class by precision, recall, f1-score and support\n"
   ],
   "outputs": [
    {
     "output_type": "stream",
     "name": "stdout",
     "text": [
      "0.9833333333333333\n",
      "[[25  0  0]\n",
      " [ 0 16  1]\n",
      " [ 0  0 18]]\n",
      "              precision    recall  f1-score   support\n",
      "\n",
      "           0       1.00      1.00      1.00        25\n",
      "           1       1.00      0.94      0.97        17\n",
      "           2       0.95      1.00      0.97        18\n",
      "\n",
      "    accuracy                           0.98        60\n",
      "   macro avg       0.98      0.98      0.98        60\n",
      "weighted avg       0.98      0.98      0.98        60\n",
      "\n"
     ]
    }
   ],
   "metadata": {}
  },
  {
   "cell_type": "markdown",
   "source": [
    "## Plot Best fit line"
   ],
   "metadata": {}
  },
  {
   "cell_type": "code",
   "execution_count": 18,
   "source": [
    "from matplotlib import pyplot as pyplot\n",
    "import numpy as np\n",
    "from sklearn.datasets import load_iris\n",
    "\n",
    "iris= load_iris()\n",
    "\n",
    "# print(iris.data)\n",
    "dt = np.array(iris.data)\n",
    "print(dt)\n",
    "# Preparing X and y data from the given data\n",
    "x = dt[:, 0].reshape(dt.shape[0], 1)\n",
    "X = np.append(x, np.ones((dt.shape[0], 1)), axis=1)\n",
    "y = dt[:, 1].reshape(dt.shape[0], 1)\n",
    "\n",
    "# Calculating the parameters using the least square method\n",
    "theta = np.linalg.inv(X.T.dot(X)).dot(X.T).dot(y)\n",
    "\n",
    "print(f'The parameters of the line: {theta}')\n",
    "\n",
    "# Now, calculating the y-axis values against x-values according to\n",
    "# the parameters theta0 and theta1\n",
    "y_line = X.dot(theta)\n",
    "\n",
    "# Plotting the data points and the best fit line\n",
    "plt.scatter(x, y)\n",
    "plt.plot(x, y_line, 'r')\n",
    "plt.title('Best fit line using regression method')\n",
    "plt.xlabel('x-axis')\n",
    "plt.ylabel('y-axis')\n",
    "\n",
    "plt.show()"
   ],
   "outputs": [
    {
     "output_type": "stream",
     "name": "stdout",
     "text": [
      "[[5.1 3.5 1.4 0.2]\n",
      " [4.9 3.  1.4 0.2]\n",
      " [4.7 3.2 1.3 0.2]\n",
      " [4.6 3.1 1.5 0.2]\n",
      " [5.  3.6 1.4 0.2]\n",
      " [5.4 3.9 1.7 0.4]\n",
      " [4.6 3.4 1.4 0.3]\n",
      " [5.  3.4 1.5 0.2]\n",
      " [4.4 2.9 1.4 0.2]\n",
      " [4.9 3.1 1.5 0.1]\n",
      " [5.4 3.7 1.5 0.2]\n",
      " [4.8 3.4 1.6 0.2]\n",
      " [4.8 3.  1.4 0.1]\n",
      " [4.3 3.  1.1 0.1]\n",
      " [5.8 4.  1.2 0.2]\n",
      " [5.7 4.4 1.5 0.4]\n",
      " [5.4 3.9 1.3 0.4]\n",
      " [5.1 3.5 1.4 0.3]\n",
      " [5.7 3.8 1.7 0.3]\n",
      " [5.1 3.8 1.5 0.3]\n",
      " [5.4 3.4 1.7 0.2]\n",
      " [5.1 3.7 1.5 0.4]\n",
      " [4.6 3.6 1.  0.2]\n",
      " [5.1 3.3 1.7 0.5]\n",
      " [4.8 3.4 1.9 0.2]\n",
      " [5.  3.  1.6 0.2]\n",
      " [5.  3.4 1.6 0.4]\n",
      " [5.2 3.5 1.5 0.2]\n",
      " [5.2 3.4 1.4 0.2]\n",
      " [4.7 3.2 1.6 0.2]\n",
      " [4.8 3.1 1.6 0.2]\n",
      " [5.4 3.4 1.5 0.4]\n",
      " [5.2 4.1 1.5 0.1]\n",
      " [5.5 4.2 1.4 0.2]\n",
      " [4.9 3.1 1.5 0.2]\n",
      " [5.  3.2 1.2 0.2]\n",
      " [5.5 3.5 1.3 0.2]\n",
      " [4.9 3.6 1.4 0.1]\n",
      " [4.4 3.  1.3 0.2]\n",
      " [5.1 3.4 1.5 0.2]\n",
      " [5.  3.5 1.3 0.3]\n",
      " [4.5 2.3 1.3 0.3]\n",
      " [4.4 3.2 1.3 0.2]\n",
      " [5.  3.5 1.6 0.6]\n",
      " [5.1 3.8 1.9 0.4]\n",
      " [4.8 3.  1.4 0.3]\n",
      " [5.1 3.8 1.6 0.2]\n",
      " [4.6 3.2 1.4 0.2]\n",
      " [5.3 3.7 1.5 0.2]\n",
      " [5.  3.3 1.4 0.2]\n",
      " [7.  3.2 4.7 1.4]\n",
      " [6.4 3.2 4.5 1.5]\n",
      " [6.9 3.1 4.9 1.5]\n",
      " [5.5 2.3 4.  1.3]\n",
      " [6.5 2.8 4.6 1.5]\n",
      " [5.7 2.8 4.5 1.3]\n",
      " [6.3 3.3 4.7 1.6]\n",
      " [4.9 2.4 3.3 1. ]\n",
      " [6.6 2.9 4.6 1.3]\n",
      " [5.2 2.7 3.9 1.4]\n",
      " [5.  2.  3.5 1. ]\n",
      " [5.9 3.  4.2 1.5]\n",
      " [6.  2.2 4.  1. ]\n",
      " [6.1 2.9 4.7 1.4]\n",
      " [5.6 2.9 3.6 1.3]\n",
      " [6.7 3.1 4.4 1.4]\n",
      " [5.6 3.  4.5 1.5]\n",
      " [5.8 2.7 4.1 1. ]\n",
      " [6.2 2.2 4.5 1.5]\n",
      " [5.6 2.5 3.9 1.1]\n",
      " [5.9 3.2 4.8 1.8]\n",
      " [6.1 2.8 4.  1.3]\n",
      " [6.3 2.5 4.9 1.5]\n",
      " [6.1 2.8 4.7 1.2]\n",
      " [6.4 2.9 4.3 1.3]\n",
      " [6.6 3.  4.4 1.4]\n",
      " [6.8 2.8 4.8 1.4]\n",
      " [6.7 3.  5.  1.7]\n",
      " [6.  2.9 4.5 1.5]\n",
      " [5.7 2.6 3.5 1. ]\n",
      " [5.5 2.4 3.8 1.1]\n",
      " [5.5 2.4 3.7 1. ]\n",
      " [5.8 2.7 3.9 1.2]\n",
      " [6.  2.7 5.1 1.6]\n",
      " [5.4 3.  4.5 1.5]\n",
      " [6.  3.4 4.5 1.6]\n",
      " [6.7 3.1 4.7 1.5]\n",
      " [6.3 2.3 4.4 1.3]\n",
      " [5.6 3.  4.1 1.3]\n",
      " [5.5 2.5 4.  1.3]\n",
      " [5.5 2.6 4.4 1.2]\n",
      " [6.1 3.  4.6 1.4]\n",
      " [5.8 2.6 4.  1.2]\n",
      " [5.  2.3 3.3 1. ]\n",
      " [5.6 2.7 4.2 1.3]\n",
      " [5.7 3.  4.2 1.2]\n",
      " [5.7 2.9 4.2 1.3]\n",
      " [6.2 2.9 4.3 1.3]\n",
      " [5.1 2.5 3.  1.1]\n",
      " [5.7 2.8 4.1 1.3]\n",
      " [6.3 3.3 6.  2.5]\n",
      " [5.8 2.7 5.1 1.9]\n",
      " [7.1 3.  5.9 2.1]\n",
      " [6.3 2.9 5.6 1.8]\n",
      " [6.5 3.  5.8 2.2]\n",
      " [7.6 3.  6.6 2.1]\n",
      " [4.9 2.5 4.5 1.7]\n",
      " [7.3 2.9 6.3 1.8]\n",
      " [6.7 2.5 5.8 1.8]\n",
      " [7.2 3.6 6.1 2.5]\n",
      " [6.5 3.2 5.1 2. ]\n",
      " [6.4 2.7 5.3 1.9]\n",
      " [6.8 3.  5.5 2.1]\n",
      " [5.7 2.5 5.  2. ]\n",
      " [5.8 2.8 5.1 2.4]\n",
      " [6.4 3.2 5.3 2.3]\n",
      " [6.5 3.  5.5 1.8]\n",
      " [7.7 3.8 6.7 2.2]\n",
      " [7.7 2.6 6.9 2.3]\n",
      " [6.  2.2 5.  1.5]\n",
      " [6.9 3.2 5.7 2.3]\n",
      " [5.6 2.8 4.9 2. ]\n",
      " [7.7 2.8 6.7 2. ]\n",
      " [6.3 2.7 4.9 1.8]\n",
      " [6.7 3.3 5.7 2.1]\n",
      " [7.2 3.2 6.  1.8]\n",
      " [6.2 2.8 4.8 1.8]\n",
      " [6.1 3.  4.9 1.8]\n",
      " [6.4 2.8 5.6 2.1]\n",
      " [7.2 3.  5.8 1.6]\n",
      " [7.4 2.8 6.1 1.9]\n",
      " [7.9 3.8 6.4 2. ]\n",
      " [6.4 2.8 5.6 2.2]\n",
      " [6.3 2.8 5.1 1.5]\n",
      " [6.1 2.6 5.6 1.4]\n",
      " [7.7 3.  6.1 2.3]\n",
      " [6.3 3.4 5.6 2.4]\n",
      " [6.4 3.1 5.5 1.8]\n",
      " [6.  3.  4.8 1.8]\n",
      " [6.9 3.1 5.4 2.1]\n",
      " [6.7 3.1 5.6 2.4]\n",
      " [6.9 3.1 5.1 2.3]\n",
      " [5.8 2.7 5.1 1.9]\n",
      " [6.8 3.2 5.9 2.3]\n",
      " [6.7 3.3 5.7 2.5]\n",
      " [6.7 3.  5.2 2.3]\n",
      " [6.3 2.5 5.  1.9]\n",
      " [6.5 3.  5.2 2. ]\n",
      " [6.2 3.4 5.4 2.3]\n",
      " [5.9 3.  5.1 1.8]]\n",
      "The parameters of the line: [[-0.0618848 ]\n",
      " [ 3.41894684]]\n"
     ]
    },
    {
     "output_type": "display_data",
     "data": {
      "text/plain": [
       "<Figure size 432x288 with 1 Axes>"
      ],
      "image/svg+xml": "<?xml version=\"1.0\" encoding=\"utf-8\" standalone=\"no\"?>\n<!DOCTYPE svg PUBLIC \"-//W3C//DTD SVG 1.1//EN\"\n  \"http://www.w3.org/Graphics/SVG/1.1/DTD/svg11.dtd\">\n<svg height=\"277.314375pt\" version=\"1.1\" viewBox=\"0 0 386.969176 277.314375\" width=\"386.969176pt\" xmlns=\"http://www.w3.org/2000/svg\" xmlns:xlink=\"http://www.w3.org/1999/xlink\">\n <metadata>\n  <rdf:RDF xmlns:cc=\"http://creativecommons.org/ns#\" xmlns:dc=\"http://purl.org/dc/elements/1.1/\" xmlns:rdf=\"http://www.w3.org/1999/02/22-rdf-syntax-ns#\">\n   <cc:Work>\n    <dc:type rdf:resource=\"http://purl.org/dc/dcmitype/StillImage\"/>\n    <dc:date>2021-10-26T23:51:16.268346</dc:date>\n    <dc:format>image/svg+xml</dc:format>\n    <dc:creator>\n     <cc:Agent>\n      <dc:title>Matplotlib v3.4.3, https://matplotlib.org/</dc:title>\n     </cc:Agent>\n    </dc:creator>\n   </cc:Work>\n  </rdf:RDF>\n </metadata>\n <defs>\n  <style type=\"text/css\">*{stroke-linecap:butt;stroke-linejoin:round;}</style>\n </defs>\n <g id=\"figure_1\">\n  <g id=\"patch_1\">\n   <path d=\"M 0 277.314375 \nL 386.969176 277.314375 \nL 386.969176 0 \nL 0 0 \nz\n\" style=\"fill:none;\"/>\n  </g>\n  <g id=\"axes_1\">\n   <g id=\"patch_2\">\n    <path d=\"M 43.78125 239.758125 \nL 378.58125 239.758125 \nL 378.58125 22.318125 \nL 43.78125 22.318125 \nz\n\" style=\"fill:#ffffff;\"/>\n   </g>\n   <g id=\"PathCollection_1\">\n    <defs>\n     <path d=\"M 0 3 \nC 0.795609 3 1.55874 2.683901 2.12132 2.12132 \nC 2.683901 1.55874 3 0.795609 3 0 \nC 3 -0.795609 2.683901 -1.55874 2.12132 -2.12132 \nC 1.55874 -2.683901 0.795609 -3 0 -3 \nC -0.795609 -3 -1.55874 -2.683901 -2.12132 -2.12132 \nC -2.683901 -1.55874 -3 -0.795609 -3 0 \nC -3 0.795609 -2.683901 1.55874 -2.12132 2.12132 \nC -1.55874 2.683901 -0.795609 3 0 3 \nz\n\" id=\"mc99625ec6e\" style=\"stroke:#1f77b4;\"/>\n    </defs>\n    <g clip-path=\"url(#p1369120772)\">\n     <use style=\"fill:#1f77b4;stroke:#1f77b4;\" x=\"126.635795\" xlink:href=\"#mc99625ec6e\" y=\"106.329034\"/>\n     <use style=\"fill:#1f77b4;stroke:#1f77b4;\" x=\"109.726705\" xlink:href=\"#mc99625ec6e\" y=\"147.510852\"/>\n     <use style=\"fill:#1f77b4;stroke:#1f77b4;\" x=\"92.817614\" xlink:href=\"#mc99625ec6e\" y=\"131.038125\"/>\n     <use style=\"fill:#1f77b4;stroke:#1f77b4;\" x=\"84.363068\" xlink:href=\"#mc99625ec6e\" y=\"139.274489\"/>\n     <use style=\"fill:#1f77b4;stroke:#1f77b4;\" x=\"118.18125\" xlink:href=\"#mc99625ec6e\" y=\"98.09267\"/>\n     <use style=\"fill:#1f77b4;stroke:#1f77b4;\" x=\"151.999432\" xlink:href=\"#mc99625ec6e\" y=\"73.38358\"/>\n     <use style=\"fill:#1f77b4;stroke:#1f77b4;\" x=\"84.363068\" xlink:href=\"#mc99625ec6e\" y=\"114.565398\"/>\n     <use style=\"fill:#1f77b4;stroke:#1f77b4;\" x=\"118.18125\" xlink:href=\"#mc99625ec6e\" y=\"114.565398\"/>\n     <use style=\"fill:#1f77b4;stroke:#1f77b4;\" x=\"67.453977\" xlink:href=\"#mc99625ec6e\" y=\"155.747216\"/>\n     <use style=\"fill:#1f77b4;stroke:#1f77b4;\" x=\"109.726705\" xlink:href=\"#mc99625ec6e\" y=\"139.274489\"/>\n     <use style=\"fill:#1f77b4;stroke:#1f77b4;\" x=\"151.999432\" xlink:href=\"#mc99625ec6e\" y=\"89.856307\"/>\n     <use style=\"fill:#1f77b4;stroke:#1f77b4;\" x=\"101.272159\" xlink:href=\"#mc99625ec6e\" y=\"114.565398\"/>\n     <use style=\"fill:#1f77b4;stroke:#1f77b4;\" x=\"101.272159\" xlink:href=\"#mc99625ec6e\" y=\"147.510852\"/>\n     <use style=\"fill:#1f77b4;stroke:#1f77b4;\" x=\"58.999432\" xlink:href=\"#mc99625ec6e\" y=\"147.510852\"/>\n     <use style=\"fill:#1f77b4;stroke:#1f77b4;\" x=\"185.817614\" xlink:href=\"#mc99625ec6e\" y=\"65.147216\"/>\n     <use style=\"fill:#1f77b4;stroke:#1f77b4;\" x=\"177.363068\" xlink:href=\"#mc99625ec6e\" y=\"32.201761\"/>\n     <use style=\"fill:#1f77b4;stroke:#1f77b4;\" x=\"151.999432\" xlink:href=\"#mc99625ec6e\" y=\"73.38358\"/>\n     <use style=\"fill:#1f77b4;stroke:#1f77b4;\" x=\"126.635795\" xlink:href=\"#mc99625ec6e\" y=\"106.329034\"/>\n     <use style=\"fill:#1f77b4;stroke:#1f77b4;\" x=\"177.363068\" xlink:href=\"#mc99625ec6e\" y=\"81.619943\"/>\n     <use style=\"fill:#1f77b4;stroke:#1f77b4;\" x=\"126.635795\" xlink:href=\"#mc99625ec6e\" y=\"81.619943\"/>\n     <use style=\"fill:#1f77b4;stroke:#1f77b4;\" x=\"151.999432\" xlink:href=\"#mc99625ec6e\" y=\"114.565398\"/>\n     <use style=\"fill:#1f77b4;stroke:#1f77b4;\" x=\"126.635795\" xlink:href=\"#mc99625ec6e\" y=\"89.856307\"/>\n     <use style=\"fill:#1f77b4;stroke:#1f77b4;\" x=\"84.363068\" xlink:href=\"#mc99625ec6e\" y=\"98.09267\"/>\n     <use style=\"fill:#1f77b4;stroke:#1f77b4;\" x=\"126.635795\" xlink:href=\"#mc99625ec6e\" y=\"122.801761\"/>\n     <use style=\"fill:#1f77b4;stroke:#1f77b4;\" x=\"101.272159\" xlink:href=\"#mc99625ec6e\" y=\"114.565398\"/>\n     <use style=\"fill:#1f77b4;stroke:#1f77b4;\" x=\"118.18125\" xlink:href=\"#mc99625ec6e\" y=\"147.510852\"/>\n     <use style=\"fill:#1f77b4;stroke:#1f77b4;\" x=\"118.18125\" xlink:href=\"#mc99625ec6e\" y=\"114.565398\"/>\n     <use style=\"fill:#1f77b4;stroke:#1f77b4;\" x=\"135.090341\" xlink:href=\"#mc99625ec6e\" y=\"106.329034\"/>\n     <use style=\"fill:#1f77b4;stroke:#1f77b4;\" x=\"135.090341\" xlink:href=\"#mc99625ec6e\" y=\"114.565398\"/>\n     <use style=\"fill:#1f77b4;stroke:#1f77b4;\" x=\"92.817614\" xlink:href=\"#mc99625ec6e\" y=\"131.038125\"/>\n     <use style=\"fill:#1f77b4;stroke:#1f77b4;\" x=\"101.272159\" xlink:href=\"#mc99625ec6e\" y=\"139.274489\"/>\n     <use style=\"fill:#1f77b4;stroke:#1f77b4;\" x=\"151.999432\" xlink:href=\"#mc99625ec6e\" y=\"114.565398\"/>\n     <use style=\"fill:#1f77b4;stroke:#1f77b4;\" x=\"135.090341\" xlink:href=\"#mc99625ec6e\" y=\"56.910852\"/>\n     <use style=\"fill:#1f77b4;stroke:#1f77b4;\" x=\"160.453977\" xlink:href=\"#mc99625ec6e\" y=\"48.674489\"/>\n     <use style=\"fill:#1f77b4;stroke:#1f77b4;\" x=\"109.726705\" xlink:href=\"#mc99625ec6e\" y=\"139.274489\"/>\n     <use style=\"fill:#1f77b4;stroke:#1f77b4;\" x=\"118.18125\" xlink:href=\"#mc99625ec6e\" y=\"131.038125\"/>\n     <use style=\"fill:#1f77b4;stroke:#1f77b4;\" x=\"160.453977\" xlink:href=\"#mc99625ec6e\" y=\"106.329034\"/>\n     <use style=\"fill:#1f77b4;stroke:#1f77b4;\" x=\"109.726705\" xlink:href=\"#mc99625ec6e\" y=\"98.09267\"/>\n     <use style=\"fill:#1f77b4;stroke:#1f77b4;\" x=\"67.453977\" xlink:href=\"#mc99625ec6e\" y=\"147.510852\"/>\n     <use style=\"fill:#1f77b4;stroke:#1f77b4;\" x=\"126.635795\" xlink:href=\"#mc99625ec6e\" y=\"114.565398\"/>\n     <use style=\"fill:#1f77b4;stroke:#1f77b4;\" x=\"118.18125\" xlink:href=\"#mc99625ec6e\" y=\"106.329034\"/>\n     <use style=\"fill:#1f77b4;stroke:#1f77b4;\" x=\"75.908523\" xlink:href=\"#mc99625ec6e\" y=\"205.165398\"/>\n     <use style=\"fill:#1f77b4;stroke:#1f77b4;\" x=\"67.453977\" xlink:href=\"#mc99625ec6e\" y=\"131.038125\"/>\n     <use style=\"fill:#1f77b4;stroke:#1f77b4;\" x=\"118.18125\" xlink:href=\"#mc99625ec6e\" y=\"106.329034\"/>\n     <use style=\"fill:#1f77b4;stroke:#1f77b4;\" x=\"126.635795\" xlink:href=\"#mc99625ec6e\" y=\"81.619943\"/>\n     <use style=\"fill:#1f77b4;stroke:#1f77b4;\" x=\"101.272159\" xlink:href=\"#mc99625ec6e\" y=\"147.510852\"/>\n     <use style=\"fill:#1f77b4;stroke:#1f77b4;\" x=\"126.635795\" xlink:href=\"#mc99625ec6e\" y=\"81.619943\"/>\n     <use style=\"fill:#1f77b4;stroke:#1f77b4;\" x=\"84.363068\" xlink:href=\"#mc99625ec6e\" y=\"131.038125\"/>\n     <use style=\"fill:#1f77b4;stroke:#1f77b4;\" x=\"143.544886\" xlink:href=\"#mc99625ec6e\" y=\"89.856307\"/>\n     <use style=\"fill:#1f77b4;stroke:#1f77b4;\" x=\"118.18125\" xlink:href=\"#mc99625ec6e\" y=\"122.801761\"/>\n     <use style=\"fill:#1f77b4;stroke:#1f77b4;\" x=\"287.272159\" xlink:href=\"#mc99625ec6e\" y=\"131.038125\"/>\n     <use style=\"fill:#1f77b4;stroke:#1f77b4;\" x=\"236.544886\" xlink:href=\"#mc99625ec6e\" y=\"131.038125\"/>\n     <use style=\"fill:#1f77b4;stroke:#1f77b4;\" x=\"278.817614\" xlink:href=\"#mc99625ec6e\" y=\"139.274489\"/>\n     <use style=\"fill:#1f77b4;stroke:#1f77b4;\" x=\"160.453977\" xlink:href=\"#mc99625ec6e\" y=\"205.165398\"/>\n     <use style=\"fill:#1f77b4;stroke:#1f77b4;\" x=\"244.999432\" xlink:href=\"#mc99625ec6e\" y=\"163.98358\"/>\n     <use style=\"fill:#1f77b4;stroke:#1f77b4;\" x=\"177.363068\" xlink:href=\"#mc99625ec6e\" y=\"163.98358\"/>\n     <use style=\"fill:#1f77b4;stroke:#1f77b4;\" x=\"228.090341\" xlink:href=\"#mc99625ec6e\" y=\"122.801761\"/>\n     <use style=\"fill:#1f77b4;stroke:#1f77b4;\" x=\"109.726705\" xlink:href=\"#mc99625ec6e\" y=\"196.929034\"/>\n     <use style=\"fill:#1f77b4;stroke:#1f77b4;\" x=\"253.453977\" xlink:href=\"#mc99625ec6e\" y=\"155.747216\"/>\n     <use style=\"fill:#1f77b4;stroke:#1f77b4;\" x=\"135.090341\" xlink:href=\"#mc99625ec6e\" y=\"172.219943\"/>\n     <use style=\"fill:#1f77b4;stroke:#1f77b4;\" x=\"118.18125\" xlink:href=\"#mc99625ec6e\" y=\"229.874489\"/>\n     <use style=\"fill:#1f77b4;stroke:#1f77b4;\" x=\"194.272159\" xlink:href=\"#mc99625ec6e\" y=\"147.510852\"/>\n     <use style=\"fill:#1f77b4;stroke:#1f77b4;\" x=\"202.726705\" xlink:href=\"#mc99625ec6e\" y=\"213.401761\"/>\n     <use style=\"fill:#1f77b4;stroke:#1f77b4;\" x=\"211.18125\" xlink:href=\"#mc99625ec6e\" y=\"155.747216\"/>\n     <use style=\"fill:#1f77b4;stroke:#1f77b4;\" x=\"168.908523\" xlink:href=\"#mc99625ec6e\" y=\"155.747216\"/>\n     <use style=\"fill:#1f77b4;stroke:#1f77b4;\" x=\"261.908523\" xlink:href=\"#mc99625ec6e\" y=\"139.274489\"/>\n     <use style=\"fill:#1f77b4;stroke:#1f77b4;\" x=\"168.908523\" xlink:href=\"#mc99625ec6e\" y=\"147.510852\"/>\n     <use style=\"fill:#1f77b4;stroke:#1f77b4;\" x=\"185.817614\" xlink:href=\"#mc99625ec6e\" y=\"172.219943\"/>\n     <use style=\"fill:#1f77b4;stroke:#1f77b4;\" x=\"219.635795\" xlink:href=\"#mc99625ec6e\" y=\"213.401761\"/>\n     <use style=\"fill:#1f77b4;stroke:#1f77b4;\" x=\"168.908523\" xlink:href=\"#mc99625ec6e\" y=\"188.69267\"/>\n     <use style=\"fill:#1f77b4;stroke:#1f77b4;\" x=\"194.272159\" xlink:href=\"#mc99625ec6e\" y=\"131.038125\"/>\n     <use style=\"fill:#1f77b4;stroke:#1f77b4;\" x=\"211.18125\" xlink:href=\"#mc99625ec6e\" y=\"163.98358\"/>\n     <use style=\"fill:#1f77b4;stroke:#1f77b4;\" x=\"228.090341\" xlink:href=\"#mc99625ec6e\" y=\"188.69267\"/>\n     <use style=\"fill:#1f77b4;stroke:#1f77b4;\" x=\"211.18125\" xlink:href=\"#mc99625ec6e\" y=\"163.98358\"/>\n     <use style=\"fill:#1f77b4;stroke:#1f77b4;\" x=\"236.544886\" xlink:href=\"#mc99625ec6e\" y=\"155.747216\"/>\n     <use style=\"fill:#1f77b4;stroke:#1f77b4;\" x=\"253.453977\" xlink:href=\"#mc99625ec6e\" y=\"147.510852\"/>\n     <use style=\"fill:#1f77b4;stroke:#1f77b4;\" x=\"270.363068\" xlink:href=\"#mc99625ec6e\" y=\"163.98358\"/>\n     <use style=\"fill:#1f77b4;stroke:#1f77b4;\" x=\"261.908523\" xlink:href=\"#mc99625ec6e\" y=\"147.510852\"/>\n     <use style=\"fill:#1f77b4;stroke:#1f77b4;\" x=\"202.726705\" xlink:href=\"#mc99625ec6e\" y=\"155.747216\"/>\n     <use style=\"fill:#1f77b4;stroke:#1f77b4;\" x=\"177.363068\" xlink:href=\"#mc99625ec6e\" y=\"180.456307\"/>\n     <use style=\"fill:#1f77b4;stroke:#1f77b4;\" x=\"160.453977\" xlink:href=\"#mc99625ec6e\" y=\"196.929034\"/>\n     <use style=\"fill:#1f77b4;stroke:#1f77b4;\" x=\"160.453977\" xlink:href=\"#mc99625ec6e\" y=\"196.929034\"/>\n     <use style=\"fill:#1f77b4;stroke:#1f77b4;\" x=\"185.817614\" xlink:href=\"#mc99625ec6e\" y=\"172.219943\"/>\n     <use style=\"fill:#1f77b4;stroke:#1f77b4;\" x=\"202.726705\" xlink:href=\"#mc99625ec6e\" y=\"172.219943\"/>\n     <use style=\"fill:#1f77b4;stroke:#1f77b4;\" x=\"151.999432\" xlink:href=\"#mc99625ec6e\" y=\"147.510852\"/>\n     <use style=\"fill:#1f77b4;stroke:#1f77b4;\" x=\"202.726705\" xlink:href=\"#mc99625ec6e\" y=\"114.565398\"/>\n     <use style=\"fill:#1f77b4;stroke:#1f77b4;\" x=\"261.908523\" xlink:href=\"#mc99625ec6e\" y=\"139.274489\"/>\n     <use style=\"fill:#1f77b4;stroke:#1f77b4;\" x=\"228.090341\" xlink:href=\"#mc99625ec6e\" y=\"205.165398\"/>\n     <use style=\"fill:#1f77b4;stroke:#1f77b4;\" x=\"168.908523\" xlink:href=\"#mc99625ec6e\" y=\"147.510852\"/>\n     <use style=\"fill:#1f77b4;stroke:#1f77b4;\" x=\"160.453977\" xlink:href=\"#mc99625ec6e\" y=\"188.69267\"/>\n     <use style=\"fill:#1f77b4;stroke:#1f77b4;\" x=\"160.453977\" xlink:href=\"#mc99625ec6e\" y=\"180.456307\"/>\n     <use style=\"fill:#1f77b4;stroke:#1f77b4;\" x=\"211.18125\" xlink:href=\"#mc99625ec6e\" y=\"147.510852\"/>\n     <use style=\"fill:#1f77b4;stroke:#1f77b4;\" x=\"185.817614\" xlink:href=\"#mc99625ec6e\" y=\"180.456307\"/>\n     <use style=\"fill:#1f77b4;stroke:#1f77b4;\" x=\"118.18125\" xlink:href=\"#mc99625ec6e\" y=\"205.165398\"/>\n     <use style=\"fill:#1f77b4;stroke:#1f77b4;\" x=\"168.908523\" xlink:href=\"#mc99625ec6e\" y=\"172.219943\"/>\n     <use style=\"fill:#1f77b4;stroke:#1f77b4;\" x=\"177.363068\" xlink:href=\"#mc99625ec6e\" y=\"147.510852\"/>\n     <use style=\"fill:#1f77b4;stroke:#1f77b4;\" x=\"177.363068\" xlink:href=\"#mc99625ec6e\" y=\"155.747216\"/>\n     <use style=\"fill:#1f77b4;stroke:#1f77b4;\" x=\"219.635795\" xlink:href=\"#mc99625ec6e\" y=\"155.747216\"/>\n     <use style=\"fill:#1f77b4;stroke:#1f77b4;\" x=\"126.635795\" xlink:href=\"#mc99625ec6e\" y=\"188.69267\"/>\n     <use style=\"fill:#1f77b4;stroke:#1f77b4;\" x=\"177.363068\" xlink:href=\"#mc99625ec6e\" y=\"163.98358\"/>\n     <use style=\"fill:#1f77b4;stroke:#1f77b4;\" x=\"228.090341\" xlink:href=\"#mc99625ec6e\" y=\"122.801761\"/>\n     <use style=\"fill:#1f77b4;stroke:#1f77b4;\" x=\"185.817614\" xlink:href=\"#mc99625ec6e\" y=\"172.219943\"/>\n     <use style=\"fill:#1f77b4;stroke:#1f77b4;\" x=\"295.726705\" xlink:href=\"#mc99625ec6e\" y=\"147.510852\"/>\n     <use style=\"fill:#1f77b4;stroke:#1f77b4;\" x=\"228.090341\" xlink:href=\"#mc99625ec6e\" y=\"155.747216\"/>\n     <use style=\"fill:#1f77b4;stroke:#1f77b4;\" x=\"244.999432\" xlink:href=\"#mc99625ec6e\" y=\"147.510852\"/>\n     <use style=\"fill:#1f77b4;stroke:#1f77b4;\" x=\"337.999432\" xlink:href=\"#mc99625ec6e\" y=\"147.510852\"/>\n     <use style=\"fill:#1f77b4;stroke:#1f77b4;\" x=\"109.726705\" xlink:href=\"#mc99625ec6e\" y=\"188.69267\"/>\n     <use style=\"fill:#1f77b4;stroke:#1f77b4;\" x=\"312.635795\" xlink:href=\"#mc99625ec6e\" y=\"155.747216\"/>\n     <use style=\"fill:#1f77b4;stroke:#1f77b4;\" x=\"261.908523\" xlink:href=\"#mc99625ec6e\" y=\"188.69267\"/>\n     <use style=\"fill:#1f77b4;stroke:#1f77b4;\" x=\"304.18125\" xlink:href=\"#mc99625ec6e\" y=\"98.09267\"/>\n     <use style=\"fill:#1f77b4;stroke:#1f77b4;\" x=\"244.999432\" xlink:href=\"#mc99625ec6e\" y=\"131.038125\"/>\n     <use style=\"fill:#1f77b4;stroke:#1f77b4;\" x=\"236.544886\" xlink:href=\"#mc99625ec6e\" y=\"172.219943\"/>\n     <use style=\"fill:#1f77b4;stroke:#1f77b4;\" x=\"270.363068\" xlink:href=\"#mc99625ec6e\" y=\"147.510852\"/>\n     <use style=\"fill:#1f77b4;stroke:#1f77b4;\" x=\"177.363068\" xlink:href=\"#mc99625ec6e\" y=\"188.69267\"/>\n     <use style=\"fill:#1f77b4;stroke:#1f77b4;\" x=\"185.817614\" xlink:href=\"#mc99625ec6e\" y=\"163.98358\"/>\n     <use style=\"fill:#1f77b4;stroke:#1f77b4;\" x=\"236.544886\" xlink:href=\"#mc99625ec6e\" y=\"131.038125\"/>\n     <use style=\"fill:#1f77b4;stroke:#1f77b4;\" x=\"244.999432\" xlink:href=\"#mc99625ec6e\" y=\"147.510852\"/>\n     <use style=\"fill:#1f77b4;stroke:#1f77b4;\" x=\"346.453977\" xlink:href=\"#mc99625ec6e\" y=\"81.619943\"/>\n     <use style=\"fill:#1f77b4;stroke:#1f77b4;\" x=\"346.453977\" xlink:href=\"#mc99625ec6e\" y=\"180.456307\"/>\n     <use style=\"fill:#1f77b4;stroke:#1f77b4;\" x=\"202.726705\" xlink:href=\"#mc99625ec6e\" y=\"213.401761\"/>\n     <use style=\"fill:#1f77b4;stroke:#1f77b4;\" x=\"278.817614\" xlink:href=\"#mc99625ec6e\" y=\"131.038125\"/>\n     <use style=\"fill:#1f77b4;stroke:#1f77b4;\" x=\"168.908523\" xlink:href=\"#mc99625ec6e\" y=\"163.98358\"/>\n     <use style=\"fill:#1f77b4;stroke:#1f77b4;\" x=\"346.453977\" xlink:href=\"#mc99625ec6e\" y=\"163.98358\"/>\n     <use style=\"fill:#1f77b4;stroke:#1f77b4;\" x=\"228.090341\" xlink:href=\"#mc99625ec6e\" y=\"172.219943\"/>\n     <use style=\"fill:#1f77b4;stroke:#1f77b4;\" x=\"261.908523\" xlink:href=\"#mc99625ec6e\" y=\"122.801761\"/>\n     <use style=\"fill:#1f77b4;stroke:#1f77b4;\" x=\"304.18125\" xlink:href=\"#mc99625ec6e\" y=\"131.038125\"/>\n     <use style=\"fill:#1f77b4;stroke:#1f77b4;\" x=\"219.635795\" xlink:href=\"#mc99625ec6e\" y=\"163.98358\"/>\n     <use style=\"fill:#1f77b4;stroke:#1f77b4;\" x=\"211.18125\" xlink:href=\"#mc99625ec6e\" y=\"147.510852\"/>\n     <use style=\"fill:#1f77b4;stroke:#1f77b4;\" x=\"236.544886\" xlink:href=\"#mc99625ec6e\" y=\"163.98358\"/>\n     <use style=\"fill:#1f77b4;stroke:#1f77b4;\" x=\"304.18125\" xlink:href=\"#mc99625ec6e\" y=\"147.510852\"/>\n     <use style=\"fill:#1f77b4;stroke:#1f77b4;\" x=\"321.090341\" xlink:href=\"#mc99625ec6e\" y=\"163.98358\"/>\n     <use style=\"fill:#1f77b4;stroke:#1f77b4;\" x=\"363.363068\" xlink:href=\"#mc99625ec6e\" y=\"81.619943\"/>\n     <use style=\"fill:#1f77b4;stroke:#1f77b4;\" x=\"236.544886\" xlink:href=\"#mc99625ec6e\" y=\"163.98358\"/>\n     <use style=\"fill:#1f77b4;stroke:#1f77b4;\" x=\"228.090341\" xlink:href=\"#mc99625ec6e\" y=\"163.98358\"/>\n     <use style=\"fill:#1f77b4;stroke:#1f77b4;\" x=\"211.18125\" xlink:href=\"#mc99625ec6e\" y=\"180.456307\"/>\n     <use style=\"fill:#1f77b4;stroke:#1f77b4;\" x=\"346.453977\" xlink:href=\"#mc99625ec6e\" y=\"147.510852\"/>\n     <use style=\"fill:#1f77b4;stroke:#1f77b4;\" x=\"228.090341\" xlink:href=\"#mc99625ec6e\" y=\"114.565398\"/>\n     <use style=\"fill:#1f77b4;stroke:#1f77b4;\" x=\"236.544886\" xlink:href=\"#mc99625ec6e\" y=\"139.274489\"/>\n     <use style=\"fill:#1f77b4;stroke:#1f77b4;\" x=\"202.726705\" xlink:href=\"#mc99625ec6e\" y=\"147.510852\"/>\n     <use style=\"fill:#1f77b4;stroke:#1f77b4;\" x=\"278.817614\" xlink:href=\"#mc99625ec6e\" y=\"139.274489\"/>\n     <use style=\"fill:#1f77b4;stroke:#1f77b4;\" x=\"261.908523\" xlink:href=\"#mc99625ec6e\" y=\"139.274489\"/>\n     <use style=\"fill:#1f77b4;stroke:#1f77b4;\" x=\"278.817614\" xlink:href=\"#mc99625ec6e\" y=\"139.274489\"/>\n     <use style=\"fill:#1f77b4;stroke:#1f77b4;\" x=\"185.817614\" xlink:href=\"#mc99625ec6e\" y=\"172.219943\"/>\n     <use style=\"fill:#1f77b4;stroke:#1f77b4;\" x=\"270.363068\" xlink:href=\"#mc99625ec6e\" y=\"131.038125\"/>\n     <use style=\"fill:#1f77b4;stroke:#1f77b4;\" x=\"261.908523\" xlink:href=\"#mc99625ec6e\" y=\"122.801761\"/>\n     <use style=\"fill:#1f77b4;stroke:#1f77b4;\" x=\"261.908523\" xlink:href=\"#mc99625ec6e\" y=\"147.510852\"/>\n     <use style=\"fill:#1f77b4;stroke:#1f77b4;\" x=\"228.090341\" xlink:href=\"#mc99625ec6e\" y=\"188.69267\"/>\n     <use style=\"fill:#1f77b4;stroke:#1f77b4;\" x=\"244.999432\" xlink:href=\"#mc99625ec6e\" y=\"147.510852\"/>\n     <use style=\"fill:#1f77b4;stroke:#1f77b4;\" x=\"219.635795\" xlink:href=\"#mc99625ec6e\" y=\"114.565398\"/>\n     <use style=\"fill:#1f77b4;stroke:#1f77b4;\" x=\"194.272159\" xlink:href=\"#mc99625ec6e\" y=\"147.510852\"/>\n    </g>\n   </g>\n   <g id=\"matplotlib.axis_1\">\n    <g id=\"xtick_1\">\n     <g id=\"line2d_1\">\n      <defs>\n       <path d=\"M 0 0 \nL 0 3.5 \n\" id=\"m38fc0ffb9c\" style=\"stroke:#000000;stroke-width:0.8;\"/>\n      </defs>\n      <g>\n       <use style=\"stroke:#000000;stroke-width:0.8;\" x=\"75.908523\" xlink:href=\"#m38fc0ffb9c\" y=\"239.758125\"/>\n      </g>\n     </g>\n     <g id=\"text_1\">\n      <!-- 4.5 -->\n      <g transform=\"translate(67.95696 254.356562)scale(0.1 -0.1)\">\n       <defs>\n        <path d=\"M 2419 4116 \nL 825 1625 \nL 2419 1625 \nL 2419 4116 \nz\nM 2253 4666 \nL 3047 4666 \nL 3047 1625 \nL 3713 1625 \nL 3713 1100 \nL 3047 1100 \nL 3047 0 \nL 2419 0 \nL 2419 1100 \nL 313 1100 \nL 313 1709 \nL 2253 4666 \nz\n\" id=\"DejaVuSans-34\" transform=\"scale(0.015625)\"/>\n        <path d=\"M 684 794 \nL 1344 794 \nL 1344 0 \nL 684 0 \nL 684 794 \nz\n\" id=\"DejaVuSans-2e\" transform=\"scale(0.015625)\"/>\n        <path d=\"M 691 4666 \nL 3169 4666 \nL 3169 4134 \nL 1269 4134 \nL 1269 2991 \nQ 1406 3038 1543 3061 \nQ 1681 3084 1819 3084 \nQ 2600 3084 3056 2656 \nQ 3513 2228 3513 1497 \nQ 3513 744 3044 326 \nQ 2575 -91 1722 -91 \nQ 1428 -91 1123 -41 \nQ 819 9 494 109 \nL 494 744 \nQ 775 591 1075 516 \nQ 1375 441 1709 441 \nQ 2250 441 2565 725 \nQ 2881 1009 2881 1497 \nQ 2881 1984 2565 2268 \nQ 2250 2553 1709 2553 \nQ 1456 2553 1204 2497 \nQ 953 2441 691 2322 \nL 691 4666 \nz\n\" id=\"DejaVuSans-35\" transform=\"scale(0.015625)\"/>\n       </defs>\n       <use xlink:href=\"#DejaVuSans-34\"/>\n       <use x=\"63.623047\" xlink:href=\"#DejaVuSans-2e\"/>\n       <use x=\"95.410156\" xlink:href=\"#DejaVuSans-35\"/>\n      </g>\n     </g>\n    </g>\n    <g id=\"xtick_2\">\n     <g id=\"line2d_2\">\n      <g>\n       <use style=\"stroke:#000000;stroke-width:0.8;\" x=\"118.18125\" xlink:href=\"#m38fc0ffb9c\" y=\"239.758125\"/>\n      </g>\n     </g>\n     <g id=\"text_2\">\n      <!-- 5.0 -->\n      <g transform=\"translate(110.229687 254.356562)scale(0.1 -0.1)\">\n       <defs>\n        <path d=\"M 2034 4250 \nQ 1547 4250 1301 3770 \nQ 1056 3291 1056 2328 \nQ 1056 1369 1301 889 \nQ 1547 409 2034 409 \nQ 2525 409 2770 889 \nQ 3016 1369 3016 2328 \nQ 3016 3291 2770 3770 \nQ 2525 4250 2034 4250 \nz\nM 2034 4750 \nQ 2819 4750 3233 4129 \nQ 3647 3509 3647 2328 \nQ 3647 1150 3233 529 \nQ 2819 -91 2034 -91 \nQ 1250 -91 836 529 \nQ 422 1150 422 2328 \nQ 422 3509 836 4129 \nQ 1250 4750 2034 4750 \nz\n\" id=\"DejaVuSans-30\" transform=\"scale(0.015625)\"/>\n       </defs>\n       <use xlink:href=\"#DejaVuSans-35\"/>\n       <use x=\"63.623047\" xlink:href=\"#DejaVuSans-2e\"/>\n       <use x=\"95.410156\" xlink:href=\"#DejaVuSans-30\"/>\n      </g>\n     </g>\n    </g>\n    <g id=\"xtick_3\">\n     <g id=\"line2d_3\">\n      <g>\n       <use style=\"stroke:#000000;stroke-width:0.8;\" x=\"160.453977\" xlink:href=\"#m38fc0ffb9c\" y=\"239.758125\"/>\n      </g>\n     </g>\n     <g id=\"text_3\">\n      <!-- 5.5 -->\n      <g transform=\"translate(152.502415 254.356562)scale(0.1 -0.1)\">\n       <use xlink:href=\"#DejaVuSans-35\"/>\n       <use x=\"63.623047\" xlink:href=\"#DejaVuSans-2e\"/>\n       <use x=\"95.410156\" xlink:href=\"#DejaVuSans-35\"/>\n      </g>\n     </g>\n    </g>\n    <g id=\"xtick_4\">\n     <g id=\"line2d_4\">\n      <g>\n       <use style=\"stroke:#000000;stroke-width:0.8;\" x=\"202.726705\" xlink:href=\"#m38fc0ffb9c\" y=\"239.758125\"/>\n      </g>\n     </g>\n     <g id=\"text_4\">\n      <!-- 6.0 -->\n      <g transform=\"translate(194.775142 254.356562)scale(0.1 -0.1)\">\n       <defs>\n        <path d=\"M 2113 2584 \nQ 1688 2584 1439 2293 \nQ 1191 2003 1191 1497 \nQ 1191 994 1439 701 \nQ 1688 409 2113 409 \nQ 2538 409 2786 701 \nQ 3034 994 3034 1497 \nQ 3034 2003 2786 2293 \nQ 2538 2584 2113 2584 \nz\nM 3366 4563 \nL 3366 3988 \nQ 3128 4100 2886 4159 \nQ 2644 4219 2406 4219 \nQ 1781 4219 1451 3797 \nQ 1122 3375 1075 2522 \nQ 1259 2794 1537 2939 \nQ 1816 3084 2150 3084 \nQ 2853 3084 3261 2657 \nQ 3669 2231 3669 1497 \nQ 3669 778 3244 343 \nQ 2819 -91 2113 -91 \nQ 1303 -91 875 529 \nQ 447 1150 447 2328 \nQ 447 3434 972 4092 \nQ 1497 4750 2381 4750 \nQ 2619 4750 2861 4703 \nQ 3103 4656 3366 4563 \nz\n\" id=\"DejaVuSans-36\" transform=\"scale(0.015625)\"/>\n       </defs>\n       <use xlink:href=\"#DejaVuSans-36\"/>\n       <use x=\"63.623047\" xlink:href=\"#DejaVuSans-2e\"/>\n       <use x=\"95.410156\" xlink:href=\"#DejaVuSans-30\"/>\n      </g>\n     </g>\n    </g>\n    <g id=\"xtick_5\">\n     <g id=\"line2d_5\">\n      <g>\n       <use style=\"stroke:#000000;stroke-width:0.8;\" x=\"244.999432\" xlink:href=\"#m38fc0ffb9c\" y=\"239.758125\"/>\n      </g>\n     </g>\n     <g id=\"text_5\">\n      <!-- 6.5 -->\n      <g transform=\"translate(237.047869 254.356562)scale(0.1 -0.1)\">\n       <use xlink:href=\"#DejaVuSans-36\"/>\n       <use x=\"63.623047\" xlink:href=\"#DejaVuSans-2e\"/>\n       <use x=\"95.410156\" xlink:href=\"#DejaVuSans-35\"/>\n      </g>\n     </g>\n    </g>\n    <g id=\"xtick_6\">\n     <g id=\"line2d_6\">\n      <g>\n       <use style=\"stroke:#000000;stroke-width:0.8;\" x=\"287.272159\" xlink:href=\"#m38fc0ffb9c\" y=\"239.758125\"/>\n      </g>\n     </g>\n     <g id=\"text_6\">\n      <!-- 7.0 -->\n      <g transform=\"translate(279.320597 254.356562)scale(0.1 -0.1)\">\n       <defs>\n        <path d=\"M 525 4666 \nL 3525 4666 \nL 3525 4397 \nL 1831 0 \nL 1172 0 \nL 2766 4134 \nL 525 4134 \nL 525 4666 \nz\n\" id=\"DejaVuSans-37\" transform=\"scale(0.015625)\"/>\n       </defs>\n       <use xlink:href=\"#DejaVuSans-37\"/>\n       <use x=\"63.623047\" xlink:href=\"#DejaVuSans-2e\"/>\n       <use x=\"95.410156\" xlink:href=\"#DejaVuSans-30\"/>\n      </g>\n     </g>\n    </g>\n    <g id=\"xtick_7\">\n     <g id=\"line2d_7\">\n      <g>\n       <use style=\"stroke:#000000;stroke-width:0.8;\" x=\"329.544886\" xlink:href=\"#m38fc0ffb9c\" y=\"239.758125\"/>\n      </g>\n     </g>\n     <g id=\"text_7\">\n      <!-- 7.5 -->\n      <g transform=\"translate(321.593324 254.356562)scale(0.1 -0.1)\">\n       <use xlink:href=\"#DejaVuSans-37\"/>\n       <use x=\"63.623047\" xlink:href=\"#DejaVuSans-2e\"/>\n       <use x=\"95.410156\" xlink:href=\"#DejaVuSans-35\"/>\n      </g>\n     </g>\n    </g>\n    <g id=\"xtick_8\">\n     <g id=\"line2d_8\">\n      <g>\n       <use style=\"stroke:#000000;stroke-width:0.8;\" x=\"371.817614\" xlink:href=\"#m38fc0ffb9c\" y=\"239.758125\"/>\n      </g>\n     </g>\n     <g id=\"text_8\">\n      <!-- 8.0 -->\n      <g transform=\"translate(363.866051 254.356562)scale(0.1 -0.1)\">\n       <defs>\n        <path d=\"M 2034 2216 \nQ 1584 2216 1326 1975 \nQ 1069 1734 1069 1313 \nQ 1069 891 1326 650 \nQ 1584 409 2034 409 \nQ 2484 409 2743 651 \nQ 3003 894 3003 1313 \nQ 3003 1734 2745 1975 \nQ 2488 2216 2034 2216 \nz\nM 1403 2484 \nQ 997 2584 770 2862 \nQ 544 3141 544 3541 \nQ 544 4100 942 4425 \nQ 1341 4750 2034 4750 \nQ 2731 4750 3128 4425 \nQ 3525 4100 3525 3541 \nQ 3525 3141 3298 2862 \nQ 3072 2584 2669 2484 \nQ 3125 2378 3379 2068 \nQ 3634 1759 3634 1313 \nQ 3634 634 3220 271 \nQ 2806 -91 2034 -91 \nQ 1263 -91 848 271 \nQ 434 634 434 1313 \nQ 434 1759 690 2068 \nQ 947 2378 1403 2484 \nz\nM 1172 3481 \nQ 1172 3119 1398 2916 \nQ 1625 2713 2034 2713 \nQ 2441 2713 2670 2916 \nQ 2900 3119 2900 3481 \nQ 2900 3844 2670 4047 \nQ 2441 4250 2034 4250 \nQ 1625 4250 1398 4047 \nQ 1172 3844 1172 3481 \nz\n\" id=\"DejaVuSans-38\" transform=\"scale(0.015625)\"/>\n       </defs>\n       <use xlink:href=\"#DejaVuSans-38\"/>\n       <use x=\"63.623047\" xlink:href=\"#DejaVuSans-2e\"/>\n       <use x=\"95.410156\" xlink:href=\"#DejaVuSans-30\"/>\n      </g>\n     </g>\n    </g>\n    <g id=\"text_9\">\n     <!-- x-axis -->\n     <g transform=\"translate(196.400781 268.034687)scale(0.1 -0.1)\">\n      <defs>\n       <path d=\"M 3513 3500 \nL 2247 1797 \nL 3578 0 \nL 2900 0 \nL 1881 1375 \nL 863 0 \nL 184 0 \nL 1544 1831 \nL 300 3500 \nL 978 3500 \nL 1906 2253 \nL 2834 3500 \nL 3513 3500 \nz\n\" id=\"DejaVuSans-78\" transform=\"scale(0.015625)\"/>\n       <path d=\"M 313 2009 \nL 1997 2009 \nL 1997 1497 \nL 313 1497 \nL 313 2009 \nz\n\" id=\"DejaVuSans-2d\" transform=\"scale(0.015625)\"/>\n       <path d=\"M 2194 1759 \nQ 1497 1759 1228 1600 \nQ 959 1441 959 1056 \nQ 959 750 1161 570 \nQ 1363 391 1709 391 \nQ 2188 391 2477 730 \nQ 2766 1069 2766 1631 \nL 2766 1759 \nL 2194 1759 \nz\nM 3341 1997 \nL 3341 0 \nL 2766 0 \nL 2766 531 \nQ 2569 213 2275 61 \nQ 1981 -91 1556 -91 \nQ 1019 -91 701 211 \nQ 384 513 384 1019 \nQ 384 1609 779 1909 \nQ 1175 2209 1959 2209 \nL 2766 2209 \nL 2766 2266 \nQ 2766 2663 2505 2880 \nQ 2244 3097 1772 3097 \nQ 1472 3097 1187 3025 \nQ 903 2953 641 2809 \nL 641 3341 \nQ 956 3463 1253 3523 \nQ 1550 3584 1831 3584 \nQ 2591 3584 2966 3190 \nQ 3341 2797 3341 1997 \nz\n\" id=\"DejaVuSans-61\" transform=\"scale(0.015625)\"/>\n       <path d=\"M 603 3500 \nL 1178 3500 \nL 1178 0 \nL 603 0 \nL 603 3500 \nz\nM 603 4863 \nL 1178 4863 \nL 1178 4134 \nL 603 4134 \nL 603 4863 \nz\n\" id=\"DejaVuSans-69\" transform=\"scale(0.015625)\"/>\n       <path d=\"M 2834 3397 \nL 2834 2853 \nQ 2591 2978 2328 3040 \nQ 2066 3103 1784 3103 \nQ 1356 3103 1142 2972 \nQ 928 2841 928 2578 \nQ 928 2378 1081 2264 \nQ 1234 2150 1697 2047 \nL 1894 2003 \nQ 2506 1872 2764 1633 \nQ 3022 1394 3022 966 \nQ 3022 478 2636 193 \nQ 2250 -91 1575 -91 \nQ 1294 -91 989 -36 \nQ 684 19 347 128 \nL 347 722 \nQ 666 556 975 473 \nQ 1284 391 1588 391 \nQ 1994 391 2212 530 \nQ 2431 669 2431 922 \nQ 2431 1156 2273 1281 \nQ 2116 1406 1581 1522 \nL 1381 1569 \nQ 847 1681 609 1914 \nQ 372 2147 372 2553 \nQ 372 3047 722 3315 \nQ 1072 3584 1716 3584 \nQ 2034 3584 2315 3537 \nQ 2597 3491 2834 3397 \nz\n\" id=\"DejaVuSans-73\" transform=\"scale(0.015625)\"/>\n      </defs>\n      <use xlink:href=\"#DejaVuSans-78\"/>\n      <use x=\"59.179688\" xlink:href=\"#DejaVuSans-2d\"/>\n      <use x=\"95.263672\" xlink:href=\"#DejaVuSans-61\"/>\n      <use x=\"156.542969\" xlink:href=\"#DejaVuSans-78\"/>\n      <use x=\"215.722656\" xlink:href=\"#DejaVuSans-69\"/>\n      <use x=\"243.505859\" xlink:href=\"#DejaVuSans-73\"/>\n     </g>\n    </g>\n   </g>\n   <g id=\"matplotlib.axis_2\">\n    <g id=\"ytick_1\">\n     <g id=\"line2d_9\">\n      <defs>\n       <path d=\"M 0 0 \nL -3.5 0 \n\" id=\"m55f374d641\" style=\"stroke:#000000;stroke-width:0.8;\"/>\n      </defs>\n      <g>\n       <use style=\"stroke:#000000;stroke-width:0.8;\" x=\"43.78125\" xlink:href=\"#m55f374d641\" y=\"229.874489\"/>\n      </g>\n     </g>\n     <g id=\"text_10\">\n      <!-- 2.0 -->\n      <g transform=\"translate(20.878125 233.673707)scale(0.1 -0.1)\">\n       <defs>\n        <path d=\"M 1228 531 \nL 3431 531 \nL 3431 0 \nL 469 0 \nL 469 531 \nQ 828 903 1448 1529 \nQ 2069 2156 2228 2338 \nQ 2531 2678 2651 2914 \nQ 2772 3150 2772 3378 \nQ 2772 3750 2511 3984 \nQ 2250 4219 1831 4219 \nQ 1534 4219 1204 4116 \nQ 875 4013 500 3803 \nL 500 4441 \nQ 881 4594 1212 4672 \nQ 1544 4750 1819 4750 \nQ 2544 4750 2975 4387 \nQ 3406 4025 3406 3419 \nQ 3406 3131 3298 2873 \nQ 3191 2616 2906 2266 \nQ 2828 2175 2409 1742 \nQ 1991 1309 1228 531 \nz\n\" id=\"DejaVuSans-32\" transform=\"scale(0.015625)\"/>\n       </defs>\n       <use xlink:href=\"#DejaVuSans-32\"/>\n       <use x=\"63.623047\" xlink:href=\"#DejaVuSans-2e\"/>\n       <use x=\"95.410156\" xlink:href=\"#DejaVuSans-30\"/>\n      </g>\n     </g>\n    </g>\n    <g id=\"ytick_2\">\n     <g id=\"line2d_10\">\n      <g>\n       <use style=\"stroke:#000000;stroke-width:0.8;\" x=\"43.78125\" xlink:href=\"#m55f374d641\" y=\"188.69267\"/>\n      </g>\n     </g>\n     <g id=\"text_11\">\n      <!-- 2.5 -->\n      <g transform=\"translate(20.878125 192.491889)scale(0.1 -0.1)\">\n       <use xlink:href=\"#DejaVuSans-32\"/>\n       <use x=\"63.623047\" xlink:href=\"#DejaVuSans-2e\"/>\n       <use x=\"95.410156\" xlink:href=\"#DejaVuSans-35\"/>\n      </g>\n     </g>\n    </g>\n    <g id=\"ytick_3\">\n     <g id=\"line2d_11\">\n      <g>\n       <use style=\"stroke:#000000;stroke-width:0.8;\" x=\"43.78125\" xlink:href=\"#m55f374d641\" y=\"147.510852\"/>\n      </g>\n     </g>\n     <g id=\"text_12\">\n      <!-- 3.0 -->\n      <g transform=\"translate(20.878125 151.310071)scale(0.1 -0.1)\">\n       <defs>\n        <path d=\"M 2597 2516 \nQ 3050 2419 3304 2112 \nQ 3559 1806 3559 1356 \nQ 3559 666 3084 287 \nQ 2609 -91 1734 -91 \nQ 1441 -91 1130 -33 \nQ 819 25 488 141 \nL 488 750 \nQ 750 597 1062 519 \nQ 1375 441 1716 441 \nQ 2309 441 2620 675 \nQ 2931 909 2931 1356 \nQ 2931 1769 2642 2001 \nQ 2353 2234 1838 2234 \nL 1294 2234 \nL 1294 2753 \nL 1863 2753 \nQ 2328 2753 2575 2939 \nQ 2822 3125 2822 3475 \nQ 2822 3834 2567 4026 \nQ 2313 4219 1838 4219 \nQ 1578 4219 1281 4162 \nQ 984 4106 628 3988 \nL 628 4550 \nQ 988 4650 1302 4700 \nQ 1616 4750 1894 4750 \nQ 2613 4750 3031 4423 \nQ 3450 4097 3450 3541 \nQ 3450 3153 3228 2886 \nQ 3006 2619 2597 2516 \nz\n\" id=\"DejaVuSans-33\" transform=\"scale(0.015625)\"/>\n       </defs>\n       <use xlink:href=\"#DejaVuSans-33\"/>\n       <use x=\"63.623047\" xlink:href=\"#DejaVuSans-2e\"/>\n       <use x=\"95.410156\" xlink:href=\"#DejaVuSans-30\"/>\n      </g>\n     </g>\n    </g>\n    <g id=\"ytick_4\">\n     <g id=\"line2d_12\">\n      <g>\n       <use style=\"stroke:#000000;stroke-width:0.8;\" x=\"43.78125\" xlink:href=\"#m55f374d641\" y=\"106.329034\"/>\n      </g>\n     </g>\n     <g id=\"text_13\">\n      <!-- 3.5 -->\n      <g transform=\"translate(20.878125 110.128253)scale(0.1 -0.1)\">\n       <use xlink:href=\"#DejaVuSans-33\"/>\n       <use x=\"63.623047\" xlink:href=\"#DejaVuSans-2e\"/>\n       <use x=\"95.410156\" xlink:href=\"#DejaVuSans-35\"/>\n      </g>\n     </g>\n    </g>\n    <g id=\"ytick_5\">\n     <g id=\"line2d_13\">\n      <g>\n       <use style=\"stroke:#000000;stroke-width:0.8;\" x=\"43.78125\" xlink:href=\"#m55f374d641\" y=\"65.147216\"/>\n      </g>\n     </g>\n     <g id=\"text_14\">\n      <!-- 4.0 -->\n      <g transform=\"translate(20.878125 68.946435)scale(0.1 -0.1)\">\n       <use xlink:href=\"#DejaVuSans-34\"/>\n       <use x=\"63.623047\" xlink:href=\"#DejaVuSans-2e\"/>\n       <use x=\"95.410156\" xlink:href=\"#DejaVuSans-30\"/>\n      </g>\n     </g>\n    </g>\n    <g id=\"ytick_6\">\n     <g id=\"line2d_14\">\n      <g>\n       <use style=\"stroke:#000000;stroke-width:0.8;\" x=\"43.78125\" xlink:href=\"#m55f374d641\" y=\"23.965398\"/>\n      </g>\n     </g>\n     <g id=\"text_15\">\n      <!-- 4.5 -->\n      <g transform=\"translate(20.878125 27.764616)scale(0.1 -0.1)\">\n       <use xlink:href=\"#DejaVuSans-34\"/>\n       <use x=\"63.623047\" xlink:href=\"#DejaVuSans-2e\"/>\n       <use x=\"95.410156\" xlink:href=\"#DejaVuSans-35\"/>\n      </g>\n     </g>\n    </g>\n    <g id=\"text_16\">\n     <!-- y-axis -->\n     <g transform=\"translate(14.798438 145.731094)rotate(-90)scale(0.1 -0.1)\">\n      <defs>\n       <path d=\"M 2059 -325 \nQ 1816 -950 1584 -1140 \nQ 1353 -1331 966 -1331 \nL 506 -1331 \nL 506 -850 \nL 844 -850 \nQ 1081 -850 1212 -737 \nQ 1344 -625 1503 -206 \nL 1606 56 \nL 191 3500 \nL 800 3500 \nL 1894 763 \nL 2988 3500 \nL 3597 3500 \nL 2059 -325 \nz\n\" id=\"DejaVuSans-79\" transform=\"scale(0.015625)\"/>\n      </defs>\n      <use xlink:href=\"#DejaVuSans-79\"/>\n      <use x=\"57.429688\" xlink:href=\"#DejaVuSans-2d\"/>\n      <use x=\"93.513672\" xlink:href=\"#DejaVuSans-61\"/>\n      <use x=\"154.792969\" xlink:href=\"#DejaVuSans-78\"/>\n      <use x=\"213.972656\" xlink:href=\"#DejaVuSans-69\"/>\n      <use x=\"241.755859\" xlink:href=\"#DejaVuSans-73\"/>\n     </g>\n    </g>\n   </g>\n   <g id=\"line2d_15\">\n    <path clip-path=\"url(#p1369120772)\" d=\"M 126.635795 138.999858 \nL 58.999432 134.922212 \nL 363.363068 153.271618 \nL 194.272159 143.077504 \n\" style=\"fill:none;stroke:#ff0000;stroke-linecap:square;stroke-width:1.5;\"/>\n   </g>\n   <g id=\"patch_3\">\n    <path d=\"M 43.78125 239.758125 \nL 43.78125 22.318125 \n\" style=\"fill:none;stroke:#000000;stroke-linecap:square;stroke-linejoin:miter;stroke-width:0.8;\"/>\n   </g>\n   <g id=\"patch_4\">\n    <path d=\"M 378.58125 239.758125 \nL 378.58125 22.318125 \n\" style=\"fill:none;stroke:#000000;stroke-linecap:square;stroke-linejoin:miter;stroke-width:0.8;\"/>\n   </g>\n   <g id=\"patch_5\">\n    <path d=\"M 43.78125 239.758125 \nL 378.58125 239.758125 \n\" style=\"fill:none;stroke:#000000;stroke-linecap:square;stroke-linejoin:miter;stroke-width:0.8;\"/>\n   </g>\n   <g id=\"patch_6\">\n    <path d=\"M 43.78125 22.318125 \nL 378.58125 22.318125 \n\" style=\"fill:none;stroke:#000000;stroke-linecap:square;stroke-linejoin:miter;stroke-width:0.8;\"/>\n   </g>\n   <g id=\"text_17\">\n    <!-- Best fit line using regression method -->\n    <g transform=\"translate(100.775625 16.318125)scale(0.12 -0.12)\">\n     <defs>\n      <path d=\"M 1259 2228 \nL 1259 519 \nL 2272 519 \nQ 2781 519 3026 730 \nQ 3272 941 3272 1375 \nQ 3272 1813 3026 2020 \nQ 2781 2228 2272 2228 \nL 1259 2228 \nz\nM 1259 4147 \nL 1259 2741 \nL 2194 2741 \nQ 2656 2741 2882 2914 \nQ 3109 3088 3109 3444 \nQ 3109 3797 2882 3972 \nQ 2656 4147 2194 4147 \nL 1259 4147 \nz\nM 628 4666 \nL 2241 4666 \nQ 2963 4666 3353 4366 \nQ 3744 4066 3744 3513 \nQ 3744 3084 3544 2831 \nQ 3344 2578 2956 2516 \nQ 3422 2416 3680 2098 \nQ 3938 1781 3938 1306 \nQ 3938 681 3513 340 \nQ 3088 0 2303 0 \nL 628 0 \nL 628 4666 \nz\n\" id=\"DejaVuSans-42\" transform=\"scale(0.015625)\"/>\n      <path d=\"M 3597 1894 \nL 3597 1613 \nL 953 1613 \nQ 991 1019 1311 708 \nQ 1631 397 2203 397 \nQ 2534 397 2845 478 \nQ 3156 559 3463 722 \nL 3463 178 \nQ 3153 47 2828 -22 \nQ 2503 -91 2169 -91 \nQ 1331 -91 842 396 \nQ 353 884 353 1716 \nQ 353 2575 817 3079 \nQ 1281 3584 2069 3584 \nQ 2775 3584 3186 3129 \nQ 3597 2675 3597 1894 \nz\nM 3022 2063 \nQ 3016 2534 2758 2815 \nQ 2500 3097 2075 3097 \nQ 1594 3097 1305 2825 \nQ 1016 2553 972 2059 \nL 3022 2063 \nz\n\" id=\"DejaVuSans-65\" transform=\"scale(0.015625)\"/>\n      <path d=\"M 1172 4494 \nL 1172 3500 \nL 2356 3500 \nL 2356 3053 \nL 1172 3053 \nL 1172 1153 \nQ 1172 725 1289 603 \nQ 1406 481 1766 481 \nL 2356 481 \nL 2356 0 \nL 1766 0 \nQ 1100 0 847 248 \nQ 594 497 594 1153 \nL 594 3053 \nL 172 3053 \nL 172 3500 \nL 594 3500 \nL 594 4494 \nL 1172 4494 \nz\n\" id=\"DejaVuSans-74\" transform=\"scale(0.015625)\"/>\n      <path id=\"DejaVuSans-20\" transform=\"scale(0.015625)\"/>\n      <path d=\"M 2375 4863 \nL 2375 4384 \nL 1825 4384 \nQ 1516 4384 1395 4259 \nQ 1275 4134 1275 3809 \nL 1275 3500 \nL 2222 3500 \nL 2222 3053 \nL 1275 3053 \nL 1275 0 \nL 697 0 \nL 697 3053 \nL 147 3053 \nL 147 3500 \nL 697 3500 \nL 697 3744 \nQ 697 4328 969 4595 \nQ 1241 4863 1831 4863 \nL 2375 4863 \nz\n\" id=\"DejaVuSans-66\" transform=\"scale(0.015625)\"/>\n      <path d=\"M 603 4863 \nL 1178 4863 \nL 1178 0 \nL 603 0 \nL 603 4863 \nz\n\" id=\"DejaVuSans-6c\" transform=\"scale(0.015625)\"/>\n      <path d=\"M 3513 2113 \nL 3513 0 \nL 2938 0 \nL 2938 2094 \nQ 2938 2591 2744 2837 \nQ 2550 3084 2163 3084 \nQ 1697 3084 1428 2787 \nQ 1159 2491 1159 1978 \nL 1159 0 \nL 581 0 \nL 581 3500 \nL 1159 3500 \nL 1159 2956 \nQ 1366 3272 1645 3428 \nQ 1925 3584 2291 3584 \nQ 2894 3584 3203 3211 \nQ 3513 2838 3513 2113 \nz\n\" id=\"DejaVuSans-6e\" transform=\"scale(0.015625)\"/>\n      <path d=\"M 544 1381 \nL 544 3500 \nL 1119 3500 \nL 1119 1403 \nQ 1119 906 1312 657 \nQ 1506 409 1894 409 \nQ 2359 409 2629 706 \nQ 2900 1003 2900 1516 \nL 2900 3500 \nL 3475 3500 \nL 3475 0 \nL 2900 0 \nL 2900 538 \nQ 2691 219 2414 64 \nQ 2138 -91 1772 -91 \nQ 1169 -91 856 284 \nQ 544 659 544 1381 \nz\nM 1991 3584 \nL 1991 3584 \nz\n\" id=\"DejaVuSans-75\" transform=\"scale(0.015625)\"/>\n      <path d=\"M 2906 1791 \nQ 2906 2416 2648 2759 \nQ 2391 3103 1925 3103 \nQ 1463 3103 1205 2759 \nQ 947 2416 947 1791 \nQ 947 1169 1205 825 \nQ 1463 481 1925 481 \nQ 2391 481 2648 825 \nQ 2906 1169 2906 1791 \nz\nM 3481 434 \nQ 3481 -459 3084 -895 \nQ 2688 -1331 1869 -1331 \nQ 1566 -1331 1297 -1286 \nQ 1028 -1241 775 -1147 \nL 775 -588 \nQ 1028 -725 1275 -790 \nQ 1522 -856 1778 -856 \nQ 2344 -856 2625 -561 \nQ 2906 -266 2906 331 \nL 2906 616 \nQ 2728 306 2450 153 \nQ 2172 0 1784 0 \nQ 1141 0 747 490 \nQ 353 981 353 1791 \nQ 353 2603 747 3093 \nQ 1141 3584 1784 3584 \nQ 2172 3584 2450 3431 \nQ 2728 3278 2906 2969 \nL 2906 3500 \nL 3481 3500 \nL 3481 434 \nz\n\" id=\"DejaVuSans-67\" transform=\"scale(0.015625)\"/>\n      <path d=\"M 2631 2963 \nQ 2534 3019 2420 3045 \nQ 2306 3072 2169 3072 \nQ 1681 3072 1420 2755 \nQ 1159 2438 1159 1844 \nL 1159 0 \nL 581 0 \nL 581 3500 \nL 1159 3500 \nL 1159 2956 \nQ 1341 3275 1631 3429 \nQ 1922 3584 2338 3584 \nQ 2397 3584 2469 3576 \nQ 2541 3569 2628 3553 \nL 2631 2963 \nz\n\" id=\"DejaVuSans-72\" transform=\"scale(0.015625)\"/>\n      <path d=\"M 1959 3097 \nQ 1497 3097 1228 2736 \nQ 959 2375 959 1747 \nQ 959 1119 1226 758 \nQ 1494 397 1959 397 \nQ 2419 397 2687 759 \nQ 2956 1122 2956 1747 \nQ 2956 2369 2687 2733 \nQ 2419 3097 1959 3097 \nz\nM 1959 3584 \nQ 2709 3584 3137 3096 \nQ 3566 2609 3566 1747 \nQ 3566 888 3137 398 \nQ 2709 -91 1959 -91 \nQ 1206 -91 779 398 \nQ 353 888 353 1747 \nQ 353 2609 779 3096 \nQ 1206 3584 1959 3584 \nz\n\" id=\"DejaVuSans-6f\" transform=\"scale(0.015625)\"/>\n      <path d=\"M 3328 2828 \nQ 3544 3216 3844 3400 \nQ 4144 3584 4550 3584 \nQ 5097 3584 5394 3201 \nQ 5691 2819 5691 2113 \nL 5691 0 \nL 5113 0 \nL 5113 2094 \nQ 5113 2597 4934 2840 \nQ 4756 3084 4391 3084 \nQ 3944 3084 3684 2787 \nQ 3425 2491 3425 1978 \nL 3425 0 \nL 2847 0 \nL 2847 2094 \nQ 2847 2600 2669 2842 \nQ 2491 3084 2119 3084 \nQ 1678 3084 1418 2786 \nQ 1159 2488 1159 1978 \nL 1159 0 \nL 581 0 \nL 581 3500 \nL 1159 3500 \nL 1159 2956 \nQ 1356 3278 1631 3431 \nQ 1906 3584 2284 3584 \nQ 2666 3584 2933 3390 \nQ 3200 3197 3328 2828 \nz\n\" id=\"DejaVuSans-6d\" transform=\"scale(0.015625)\"/>\n      <path d=\"M 3513 2113 \nL 3513 0 \nL 2938 0 \nL 2938 2094 \nQ 2938 2591 2744 2837 \nQ 2550 3084 2163 3084 \nQ 1697 3084 1428 2787 \nQ 1159 2491 1159 1978 \nL 1159 0 \nL 581 0 \nL 581 4863 \nL 1159 4863 \nL 1159 2956 \nQ 1366 3272 1645 3428 \nQ 1925 3584 2291 3584 \nQ 2894 3584 3203 3211 \nQ 3513 2838 3513 2113 \nz\n\" id=\"DejaVuSans-68\" transform=\"scale(0.015625)\"/>\n      <path d=\"M 2906 2969 \nL 2906 4863 \nL 3481 4863 \nL 3481 0 \nL 2906 0 \nL 2906 525 \nQ 2725 213 2448 61 \nQ 2172 -91 1784 -91 \nQ 1150 -91 751 415 \nQ 353 922 353 1747 \nQ 353 2572 751 3078 \nQ 1150 3584 1784 3584 \nQ 2172 3584 2448 3432 \nQ 2725 3281 2906 2969 \nz\nM 947 1747 \nQ 947 1113 1208 752 \nQ 1469 391 1925 391 \nQ 2381 391 2643 752 \nQ 2906 1113 2906 1747 \nQ 2906 2381 2643 2742 \nQ 2381 3103 1925 3103 \nQ 1469 3103 1208 2742 \nQ 947 2381 947 1747 \nz\n\" id=\"DejaVuSans-64\" transform=\"scale(0.015625)\"/>\n     </defs>\n     <use xlink:href=\"#DejaVuSans-42\"/>\n     <use x=\"68.603516\" xlink:href=\"#DejaVuSans-65\"/>\n     <use x=\"130.126953\" xlink:href=\"#DejaVuSans-73\"/>\n     <use x=\"182.226562\" xlink:href=\"#DejaVuSans-74\"/>\n     <use x=\"221.435547\" xlink:href=\"#DejaVuSans-20\"/>\n     <use x=\"253.222656\" xlink:href=\"#DejaVuSans-66\"/>\n     <use x=\"288.427734\" xlink:href=\"#DejaVuSans-69\"/>\n     <use x=\"316.210938\" xlink:href=\"#DejaVuSans-74\"/>\n     <use x=\"355.419922\" xlink:href=\"#DejaVuSans-20\"/>\n     <use x=\"387.207031\" xlink:href=\"#DejaVuSans-6c\"/>\n     <use x=\"414.990234\" xlink:href=\"#DejaVuSans-69\"/>\n     <use x=\"442.773438\" xlink:href=\"#DejaVuSans-6e\"/>\n     <use x=\"506.152344\" xlink:href=\"#DejaVuSans-65\"/>\n     <use x=\"567.675781\" xlink:href=\"#DejaVuSans-20\"/>\n     <use x=\"599.462891\" xlink:href=\"#DejaVuSans-75\"/>\n     <use x=\"662.841797\" xlink:href=\"#DejaVuSans-73\"/>\n     <use x=\"714.941406\" xlink:href=\"#DejaVuSans-69\"/>\n     <use x=\"742.724609\" xlink:href=\"#DejaVuSans-6e\"/>\n     <use x=\"806.103516\" xlink:href=\"#DejaVuSans-67\"/>\n     <use x=\"869.580078\" xlink:href=\"#DejaVuSans-20\"/>\n     <use x=\"901.367188\" xlink:href=\"#DejaVuSans-72\"/>\n     <use x=\"940.230469\" xlink:href=\"#DejaVuSans-65\"/>\n     <use x=\"1001.753906\" xlink:href=\"#DejaVuSans-67\"/>\n     <use x=\"1065.230469\" xlink:href=\"#DejaVuSans-72\"/>\n     <use x=\"1104.09375\" xlink:href=\"#DejaVuSans-65\"/>\n     <use x=\"1165.617188\" xlink:href=\"#DejaVuSans-73\"/>\n     <use x=\"1217.716797\" xlink:href=\"#DejaVuSans-73\"/>\n     <use x=\"1269.816406\" xlink:href=\"#DejaVuSans-69\"/>\n     <use x=\"1297.599609\" xlink:href=\"#DejaVuSans-6f\"/>\n     <use x=\"1358.78125\" xlink:href=\"#DejaVuSans-6e\"/>\n     <use x=\"1422.160156\" xlink:href=\"#DejaVuSans-20\"/>\n     <use x=\"1453.947266\" xlink:href=\"#DejaVuSans-6d\"/>\n     <use x=\"1551.359375\" xlink:href=\"#DejaVuSans-65\"/>\n     <use x=\"1612.882812\" xlink:href=\"#DejaVuSans-74\"/>\n     <use x=\"1652.091797\" xlink:href=\"#DejaVuSans-68\"/>\n     <use x=\"1715.470703\" xlink:href=\"#DejaVuSans-6f\"/>\n     <use x=\"1776.652344\" xlink:href=\"#DejaVuSans-64\"/>\n    </g>\n   </g>\n  </g>\n </g>\n <defs>\n  <clipPath id=\"p1369120772\">\n   <rect height=\"217.44\" width=\"334.8\" x=\"43.78125\" y=\"22.318125\"/>\n  </clipPath>\n </defs>\n</svg>\n",
      "image/png": "[encoded data removed]"
     },
     "metadata": {
      "needs_background": "light"
     }
    }
   ],
   "metadata": {}
  },
  {
   "cell_type": "markdown",
   "source": [
    "## Iris using DecisionTreeClassifier\n",
    "* Random state definition\n",
    "\n",
    "## Can different value of random state improve performances\n",
    "\n",
    "Decision Tree uses heuristics functions.\n",
    "\n",
    "random_state control the randomness estimator. If not given, a random number would anyway be given to the classifier, and it will lead to different results one from another (each time we will run time considering that the random value may chance).\n",
    " \n",
    "Use random_state will allows to have same results at each run of the model so. \n"
   ],
   "metadata": {}
  },
  {
   "cell_type": "code",
   "execution_count": 26,
   "source": [
    "from sklearn.datasets import load_iris\n",
    "#Importing KNN Classifier\n",
    "from sklearn.model_selection import cross_val_score\n",
    "# from sklearn.neighbors import KNeighborsClassifier\n",
    "# Save the model as a pickle in a file\n",
    "import joblib\n",
    "from sklearn.tree import DecisionTreeClassifier\n",
    "\n",
    "iris= load_iris()\n",
    "X= iris.data\n",
    "y= iris.target\n",
    "\n",
    "# instantiate the model with the best known parameters\n",
    "# https://scikit-learn.org/stable/modules/generated/sklearn.tree.DecisionTreeClassifier.html\n",
    "knn = DecisionTreeClassifier(random_state=0)\n",
    "\n",
    "# train the model with X and y (not X_train and y_train)\n",
    "knn_clf=knn.fit(X, y)\n",
    "predictions = knn_clf.predict(X_test)\n",
    "print(\"Accuracy \" + str(accuracy_score(y_test, predictions))) \n",
    "print(cross_val_score(knn, X, y, cv=10))\n",
    "joblib.dump(knn_clf, \"DecisionTree_Classifier.pkl\")"
   ],
   "outputs": [
    {
     "output_type": "stream",
     "name": "stdout",
     "text": [
      "Accuracy 1.0\n",
      "[1.         0.93333333 1.         0.93333333 0.93333333 0.86666667\n",
      " 0.93333333 1.         1.         1.        ]\n"
     ]
    },
    {
     "output_type": "execute_result",
     "data": {
      "text/plain": [
       "['DecisionTree_Classifier.pkl']"
      ]
     },
     "metadata": {},
     "execution_count": 26
    }
   ],
   "metadata": {}
  },
  {
   "cell_type": "markdown",
   "source": [
    "## Valite a model\n",
    "\n",
    "\n",
    "K-Folds cross-validator.\n",
    "Provides train/test indices to split data in train/test sets. Split dataset into k consecutive folds (without shuffling by default).\n",
    "\n",
    "Each fold is then used once as a validation while the k - 1 remaining folds form the training set.\n",
    "\n",
    "### To find:\n",
    "* Maximum Accuracy of the model\n",
    "* Minimums Accuracy of the model\n",
    "* Overall accuracy\n",
    "* Standard deviation: \n",
    "\n",
    "\n",
    "Standard deviation is the measure of dispersion, or how spread out values are, in a dataset. \n",
    "Standard Deviation is often represented by the symbol Sigma: σ\n",
    "\n",
    "\n",
    "\n",
    "#### Cross-valitation method\n",
    "\n",
    "* [Guide to cross validation methods](https://towardsdatascience.com/complete-guide-to-pythons-cross-validation-with-examples-a9676b5cac12)\n",
    "\n",
    "#### Leave-One-Out Cross validation\n",
    "\n",
    "#### Random Subsampling Validation\n",
    "\n",
    "\n",
    "#### Bootstrapping ML Validation Method \n",
    "\n",
    "\n",
    "\n",
    "Answer — F1 - Score.\n",
    "But, before we begin to understand what F1-Score is first we need to understand recall and precision.\n",
    "Recall\n",
    "\n",
    "Recall is the ratio of True positives and sum of True positives and False Negatives. It tells that how much our model correctly classifies positives cases out of all actual positive cases. In our case, our model didn’t predict any cancer positive so recall would be 0.\n",
    "Precision\n",
    "\n",
    "Precision is the ratio of True Positives and sum of True Positives and False Negatives. It tells that how much the model correctly predicts the positive cases out of the cases which the model predicts positive.\n",
    "\n",
    "[https://medium.com/techspace-usict/measuring-just-accuracy-is-not-enough-in-machine-learning-a-better-technique-is-required-e7199ac36856](https://medium.com/techspace-usict/measuring-just-accuracy-is-not-enough-in-machine-learning-a-better-technique-is-required-e7199ac36856)\n",
    "F1 - Score\n",
    "\n",
    "F1-Score is the harmonic mean of precision and recall. The speciality of F1-Score is that it takes both False Positives(due to precision) and False Negatives (due to recall) into account.\n",
    "F1-Score is a balance between precision and recall especially when we are dealing with Unbalanced classification problems.\n",
    "F1-Score always lie between precision and recall and therefore, gives us a better and stable evaluation for the model.\n"
   ],
   "metadata": {}
  },
  {
   "cell_type": "markdown",
   "source": [
    "## Support vector Machine (SVM) algorithm\n",
    "\n"
   ],
   "metadata": {}
  },
  {
   "cell_type": "code",
   "execution_count": null,
   "source": [
    "## Use of Support Vector Machine "
   ],
   "outputs": [],
   "metadata": {}
  },
  {
   "cell_type": "markdown",
   "source": [
    "## Logistic regression algorithm"
   ],
   "metadata": {}
  },
  {
   "cell_type": "code",
   "execution_count": 5,
   "source": [
    "## Use of Logistic regression algorithm\n",
    "from sklearn.datasets import load_iris\n",
    "\n",
    "from sklearn.linear_model import LogisticRegression\n",
    "iris= load_iris()\n",
    "\n",
    "# Store features matrix in X\n",
    "x= iris.data\n",
    "#Store target vector in y\n",
    "y= iris.target\n",
    "\n",
    "clf = LogisticRegression().fit(x, y)\n",
    "predictions = clf.predict(x)"
   ],
   "outputs": [
    {
     "output_type": "stream",
     "name": "stderr",
     "text": [
      "/usr/local/lib/python3.9/site-packages/sklearn/linear_model/_logistic.py:814: ConvergenceWarning: lbfgs failed to converge (status=1):\n",
      "STOP: TOTAL NO. of ITERATIONS REACHED LIMIT.\n",
      "\n",
      "Increase the number of iterations (max_iter) or scale the data as shown in:\n",
      "    https://scikit-learn.org/stable/modules/preprocessing.html\n",
      "Please also refer to the documentation for alternative solver options:\n",
      "    https://scikit-learn.org/stable/modules/linear_model.html#logistic-regression\n",
      "  n_iter_i = _check_optimize_result(\n"
     ]
    }
   ],
   "metadata": {}
  }
 ],
 "metadata": {
  "kernelspec": {
   "name": "python3",
   "display_name": "Python 3.7.9 64-bit"
  },
  "language_info": {
   "codemirror_mode": {
    "name": "ipython",
    "version": 3
   },
   "file_extension": ".py",
   "mimetype": "text/x-python",
   "name": "python",
   "nbconvert_exporter": "python",
   "pygments_lexer": "ipython3",
   "version": "3.7.9"
  },
  "interpreter": {
   "hash": "aee8b7b246df8f9039afb4144a1f6fd8d2ca17a180786b69acc140d282b71a49"
  }
 },
 "nbformat": 4,
 "nbformat_minor": 4
}