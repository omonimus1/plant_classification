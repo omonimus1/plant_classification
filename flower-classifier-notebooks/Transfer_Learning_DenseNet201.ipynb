{
  "nbformat": 4,
  "nbformat_minor": 0,
  "metadata": {
    "colab": {
      "name": "Transfer_Learning_DenseNet201.ipynb",
      "provenance": [],
      "include_colab_link": true
    },
    "kernelspec": {
      "name": "python3",
      "display_name": "Python 3"
    },
    "language_info": {
      "name": "python"
    },
    "accelerator": "GPU"
  },
  "cells": [
    {
      "cell_type": "markdown",
      "metadata": {
        "id": "view-in-github",
        "colab_type": "text"
      },
      "source": [
        "<a href=\"https://colab.research.google.com/github/omonimus1/plant_classification/blob/development/flower-classifier-notebooks/Transfer_Learning_DenseNet201.ipynb\" target=\"_parent\"><img src=\"https://colab.research.google.com/assets/colab-badge.svg\" alt=\"Open In Colab\"/></a>"
      ]
    },
    {
      "cell_type": "code",
      "metadata": {
        "colab": {
          "base_uri": "https://localhost:8080/"
        },
        "id": "f4356PRFfYIO",
        "outputId": "69b3d595-b448-4038-84d8-7d99519cfc9d"
      },
      "source": [
        "#changing the working directory and entering to dataset directory for my google drive\n",
        "# %cd /content/gdrive/Othercomputers/DavideLaptop/Desktop/flower_splitted/flowers_\n",
        "from google.colab import drive\n",
        "import os\n",
        "from os.path import isfile, join, abspath, exists, isdir, expanduser\n",
        "from os import listdir, makedirs, getcwd, remove\n",
        "from pathlib import Path\n",
        "from keras.layers import  Flatten, Input, Dense, Lambda,\n",
        "from keras.models import Model, Sequential\n",
        "from keras.preprocessing.image import ImageDataGenerator\n",
        "from keras.preprocessing import image\n",
        "from keras.applications.densenet import preprocess_input, DenseNet201\n",
        "import numpy as np\n",
        "from glob import glob\n",
        "import matplotlib.pyplot as plotter\n",
        "\n",
        "mount_drive_location= '/content/gdrive/'\n",
        "drive.mount(mount_drive_location, force_remount=True)\n",
        "print(os.listdir(mount_drive_location + 'Othercomputers/DavideLaptop/Desktop/flowers_splitted/flowers'))\n",
        "flowersPath = Path( mount_drive_location+'Othercomputers/DavideLaptop/Desktop/flowers_splitted/flowers')\n",
        "\n",
        "# Each species of flower is contained in a separate folder, & this is to get all the\n",
        "# sub-directories\n",
        "flowers = os.listdir(flowersPath)  "
      ],
      "execution_count": null,
      "outputs": [
        {
          "output_type": "stream",
          "name": "stdout",
          "text": [
            "Mounted at /content/gdrive/\n",
            "['test', 'train']\n"
          ]
        }
      ]
    },
    {
      "cell_type": "code",
      "metadata": {
        "colab": {
          "base_uri": "https://localhost:8080/"
        },
        "id": "ldciMsLHfbsI",
        "outputId": "f28520ea-0031-4273-ebe4-9dda4e0628b2"
      },
      "source": [
        "%cd flower_classification/"
      ],
      "execution_count": null,
      "outputs": [
        {
          "output_type": "stream",
          "name": "stdout",
          "text": [
            "/content/drive/MyDrive/kaggle/image_classification/flower_classification\n"
          ]
        }
      ]
    },
    {
      "cell_type": "code",
      "metadata": {
        "id": "VhTrRme4fjfC"
      },
      "source": [
        ""
      ],
      "execution_count": null,
      "outputs": []
    },
    {
      "cell_type": "code",
      "metadata": {
        "id": "OC5121djfnnN"
      },
      "source": [
        "# re-size all the images to this\n",
        "IMAGE_SIZE = [224, 224]\n",
        "train_path = '/content/gdrive/Othercomputers/DavideLaptop/Desktop/flowers_splitted/flowers/train'\n",
        "valid_path = '/content/gdrive/Othercomputers/DavideLaptop/Desktop/flowers_splitted/flowers/test'\n",
        "# add preprocessing layer to the front of DenseNet201\n",
        "densenet = DenseNet201(input_shape=IMAGE_SIZE + [3], weights='imagenet', include_top=False)\n",
        "# don't train existing weights\n",
        "for layer in densenet.layers:\n",
        "  layer.trainable = False\n",
        "\n",
        "# useful for getting number of classes\n",
        "folders = glob('/content/gdrive/Othercomputers/DavideLaptop/Desktop/flowers_splitted/flowers/train/*')"
      ],
      "execution_count": null,
      "outputs": []
    },
    {
      "cell_type": "code",
      "metadata": {
        "id": "65XE11-Of38I"
      },
      "source": [
        "# our layers - you can add more if you want\n",
        "x = Flatten()(densenet.output)\n",
        "# x = Dense(1000, activation='relu')(x)\n",
        "prediction = Dense(len(folders), activation='softmax')(x)"
      ],
      "execution_count": null,
      "outputs": []
    },
    {
      "cell_type": "code",
      "metadata": {
        "id": "OTXHPQZOf6f2"
      },
      "source": [
        "# create a model object\n",
        "model = Model(inputs=densenet.input, outputs=prediction)\n",
        "# view the structure of the model\n",
        "model.summary()"
      ],
      "execution_count": null,
      "outputs": []
    },
    {
      "cell_type": "code",
      "metadata": {
        "id": "vAEiDy-_f-7U"
      },
      "source": [
        "# tell the model what cost and optimization method to use\n",
        "model.compile(\n",
        "  loss='categorical_crossentropy',\n",
        "  optimizer='adam',\n",
        "  metrics=['accuracy']\n",
        ")"
      ],
      "execution_count": null,
      "outputs": []
    },
    {
      "cell_type": "code",
      "metadata": {
        "id": "7Iij3y-PgG0P"
      },
      "source": [
        "from keras.preprocessing.image import ImageDataGenerator\n",
        "\n",
        "train_datagen = ImageDataGenerator(rescale = 1./255,\n",
        "                                   shear_range = 0.2,\n",
        "                                   zoom_range = 0.2,\n",
        "                                   horizontal_flip = True)\n",
        "\n",
        "test_datagen = ImageDataGenerator(rescale = 1./255)"
      ],
      "execution_count": null,
      "outputs": []
    },
    {
      "cell_type": "code",
      "metadata": {
        "colab": {
          "base_uri": "https://localhost:8080/"
        },
        "id": "GlMv47vOgJTq",
        "outputId": "6f93a657-a1fb-4443-903f-0dba1eed0680"
      },
      "source": [
        "training_set = train_datagen.flow_from_directory('/content/gdrive/Othercomputers/DavideLaptop/Desktop/flowers_splitted/flowers/train',\n",
        "                                                 target_size = (224, 224),\n",
        "                                                 batch_size = 64,\n",
        "                                                 class_mode = 'categorical')"
      ],
      "execution_count": null,
      "outputs": [
        {
          "output_type": "stream",
          "name": "stdout",
          "text": [
            "Found 3027 images belonging to 5 classes.\n"
          ]
        }
      ]
    },
    {
      "cell_type": "code",
      "metadata": {
        "colab": {
          "base_uri": "https://localhost:8080/"
        },
        "id": "F7MEuFrngLwm",
        "outputId": "f2e81797-9dbd-45b5-a415-bff479af2788"
      },
      "source": [
        "test_set = test_datagen.flow_from_directory('/content/gdrive/Othercomputers/DavideLaptop/Desktop/flowers_splitted/flowers/test',\n",
        "                                            target_size = (224, 224),\n",
        "                                            batch_size = 64,\n",
        "                                            class_mode = 'categorical'\n",
        "                                            )"
      ],
      "execution_count": null,
      "outputs": [
        {
          "output_type": "stream",
          "name": "stdout",
          "text": [
            "Found 1296 images belonging to 5 classes.\n"
          ]
        }
      ]
    },
    {
      "cell_type": "code",
      "metadata": {
        "colab": {
          "base_uri": "https://localhost:8080/"
        },
        "id": "ngC7oXgYgQfD",
        "outputId": "18a1fa28-5a37-42b7-da0a-e97518788095"
      },
      "source": [
        "# fit the model\n",
        "r = model.fit(\n",
        "  training_set,\n",
        "  validation_data=test_set,\n",
        "  epochs=4,\n",
        "  steps_per_epoch=len(training_set),\n",
        "  validation_steps=len(test_set)\n",
        ")"
      ],
      "execution_count": null,
      "outputs": [
        {
          "output_type": "stream",
          "name": "stdout",
          "text": [
            "Epoch 1/4\n",
            "48/48 [==============================] - 754s 16s/step - loss: 2.7788 - accuracy: 0.7506 - val_loss: 1.2157 - val_accuracy: 0.8264\n",
            "Epoch 2/4\n",
            "48/48 [==============================] - 72s 1s/step - loss: 0.4437 - accuracy: 0.9174 - val_loss: 1.5606 - val_accuracy: 0.8048\n",
            "Epoch 3/4\n",
            "48/48 [==============================] - 72s 1s/step - loss: 0.2927 - accuracy: 0.9313 - val_loss: 1.1524 - val_accuracy: 0.8341\n",
            "Epoch 4/4\n",
            "48/48 [==============================] - 72s 1s/step - loss: 0.1886 - accuracy: 0.9528 - val_loss: 1.2894 - val_accuracy: 0.8233\n"
          ]
        }
      ]
    },
    {
      "cell_type": "code",
      "metadata": {
        "colab": {
          "base_uri": "https://localhost:8080/",
          "height": 283
        },
        "id": "gN7DY_M-gWTu",
        "outputId": "5c069d84-9846-495e-a354-93228475687a"
      },
      "source": [
        "# loss\n",
        "plotter.plot(r.history['loss'], label='train loss')\n",
        "plotter.plot(r.history['val_loss'], label='val loss')\n",
        "plotter.legend()\n",
        "plotter.show()\n",
        "plotter.savefig('LossVal_loss')"
      ],
      "execution_count": null,
      "outputs": [
        {
          "output_type": "display_data",
          "data": {
            "text/plain": [
              "<Figure size 432x288 with 1 Axes>"
            ],
            "image/png": "[encoded data removed]"
          },
          "metadata": {
            "needs_background": "light"
          }
        },
        {
          "output_type": "display_data",
          "data": {
            "text/plain": [
              "<Figure size 432x288 with 0 Axes>"
            ]
          },
          "metadata": {}
        }
      ]
    },
    {
      "cell_type": "code",
      "metadata": {
        "colab": {
          "base_uri": "https://localhost:8080/",
          "height": 283
        },
        "id": "R3hZfsacgaLR",
        "outputId": "e1f29f1b-7bee-4fc4-8f7c-5a4a701f0074"
      },
      "source": [
        "# accuracies\n",
        "plotter.plot(r.history['accuracy'], label='train acc')\n",
        "plotter.plot(r.history['val_accuracy'], label='val acc')\n",
        "plotter.legend()\n",
        "plotter.show()\n",
        "plotter.savefig('AccVal_acc')"
      ],
      "execution_count": null,
      "outputs": [
        {
          "output_type": "display_data",
          "data": {
            "text/plain": [
              "<Figure size 432x288 with 1 Axes>"
            ],
            "image/png": "[encoded data removed]"
          },
          "metadata": {
            "needs_background": "light"
          }
        },
        {
          "output_type": "display_data",
          "data": {
            "text/plain": [
              "<Figure size 432x288 with 0 Axes>"
            ]
          },
          "metadata": {}
        }
      ]
    }
  ]
}